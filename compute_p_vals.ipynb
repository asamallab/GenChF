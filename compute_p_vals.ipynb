{
 "cells": [
  {
   "cell_type": "code",
   "execution_count": 2,
   "id": "b7d30f8a",
   "metadata": {},
   "outputs": [],
   "source": [
    "library(readr)"
   ]
  },
  {
   "cell_type": "markdown",
   "id": "6ea73c8f",
   "metadata": {},
   "source": [
    "## Biodivine data Statistical Tests (p-val for Relative Enrichment)"
   ]
  },
  {
   "cell_type": "code",
   "execution_count": 3,
   "id": "97252f78",
   "metadata": {},
   "outputs": [],
   "source": [
    "emp_num_frac <-read.delim (\"../output/emp_num_frac_biodivine.tsv\", sep=\"\\t\")\n",
    "th_num_frac <- read.delim (\"../output/th_num_frac.tsv\", sep=\"\\t\")"
   ]
  },
  {
   "cell_type": "code",
   "execution_count": 7,
   "id": "7eb9b292",
   "metadata": {},
   "outputs": [
    {
     "data": {
      "text/html": [
       "<table class=\"dataframe\">\n",
       "<caption>A data.frame: 10 × 12</caption>\n",
       "<thead>\n",
       "\t<tr><th scope=col>k</th><th scope=col>NCF</th><th scope=col>Chain</th><th scope=col>Chain_1</th><th scope=col>Chain_U</th><th scope=col>Non.Chain_U_NCF</th><th scope=col>Chain_in_NCF</th><th scope=col>Chain_1_in_NCF</th><th scope=col>Chain_U_in_NCF</th><th scope=col>Non.Chain_U_NCF_in_NCF</th><th scope=col>ALL</th><th scope=col>NCF_in_all</th></tr>\n",
       "\t<tr><th scope=col>&lt;int&gt;</th><th scope=col>&lt;dbl&gt;</th><th scope=col>&lt;int&gt;</th><th scope=col>&lt;int&gt;</th><th scope=col>&lt;int&gt;</th><th scope=col>&lt;dbl&gt;</th><th scope=col>&lt;dbl&gt;</th><th scope=col>&lt;dbl&gt;</th><th scope=col>&lt;dbl&gt;</th><th scope=col>&lt;dbl&gt;</th><th scope=col>&lt;dbl&gt;</th><th scope=col>&lt;dbl&gt;</th></tr>\n",
       "</thead>\n",
       "<tbody>\n",
       "\t<tr><td> 1</td><td>          2</td><td>        2</td><td>        2</td><td>        2</td><td>          0</td><td>1.000000000</td><td>1.000000000</td><td>1.000000000</td><td>0.0000000</td><td> 4.000000e+00</td><td> 5.000000e-01</td></tr>\n",
       "\t<tr><td> 2</td><td>          8</td><td>        6</td><td>        6</td><td>        8</td><td>          0</td><td>0.750000000</td><td>0.750000000</td><td>1.000000000</td><td>0.0000000</td><td> 1.600000e+01</td><td> 5.000000e-01</td></tr>\n",
       "\t<tr><td> 3</td><td>         64</td><td>       26</td><td>       26</td><td>       52</td><td>         12</td><td>0.406250000</td><td>0.406250000</td><td>0.812500000</td><td>0.1875000</td><td> 2.560000e+02</td><td> 2.500000e-01</td></tr>\n",
       "\t<tr><td> 4</td><td>        736</td><td>      150</td><td>      150</td><td>      300</td><td>        436</td><td>0.203804348</td><td>0.203804348</td><td>0.407608696</td><td>0.5923913</td><td> 6.553600e+04</td><td> 1.123047e-02</td></tr>\n",
       "\t<tr><td> 5</td><td>      10624</td><td>     1082</td><td>     1082</td><td>     2164</td><td>       8460</td><td>0.101844880</td><td>0.101844880</td><td>0.203689759</td><td>0.7963102</td><td> 4.294967e+09</td><td> 2.473593e-06</td></tr>\n",
       "\t<tr><td> 6</td><td>     183936</td><td>     9366</td><td>     9366</td><td>    18732</td><td>     165204</td><td>0.050919885</td><td>0.050919885</td><td>0.101839770</td><td>0.8981602</td><td> 1.844674e+19</td><td> 9.971191e-15</td></tr>\n",
       "\t<tr><td> 7</td><td>    3715072</td><td>    94586</td><td>    94586</td><td>   189172</td><td>    3525900</td><td>0.025460072</td><td>0.025460072</td><td>0.050920144</td><td>0.9490799</td><td> 3.402824e+38</td><td> 1.091762e-32</td></tr>\n",
       "\t<tr><td> 8</td><td>   85755372</td><td>  1091670</td><td>  1091670</td><td>  2183340</td><td>   83572032</td><td>0.012730048</td><td>0.012730048</td><td>0.025460096</td><td>0.9745399</td><td> 1.157921e+77</td><td> 7.405978e-70</td></tr>\n",
       "\t<tr><td> 9</td><td> 2226939904</td><td> 14174522</td><td> 14174522</td><td> 28349044</td><td> 2198590860</td><td>0.006365022</td><td>0.006365022</td><td>0.012730044</td><td>0.9872700</td><td>1.340781e+154</td><td>1.660928e-145</td></tr>\n",
       "\t<tr><td>10</td><td>64255903744</td><td>204495126</td><td>204495126</td><td>408990252</td><td>63846913492</td><td>0.003182511</td><td>0.003182511</td><td>0.006365022</td><td>0.9936350</td><td>          Inf</td><td>3.574353e-298</td></tr>\n",
       "</tbody>\n",
       "</table>\n"
      ],
      "text/latex": [
       "A data.frame: 10 × 12\n",
       "\\begin{tabular}{llllllllllll}\n",
       " k & NCF & Chain & Chain\\_1 & Chain\\_U & Non.Chain\\_U\\_NCF & Chain\\_in\\_NCF & Chain\\_1\\_in\\_NCF & Chain\\_U\\_in\\_NCF & Non.Chain\\_U\\_NCF\\_in\\_NCF & ALL & NCF\\_in\\_all\\\\\n",
       " <int> & <dbl> & <int> & <int> & <int> & <dbl> & <dbl> & <dbl> & <dbl> & <dbl> & <dbl> & <dbl>\\\\\n",
       "\\hline\n",
       "\t  1 &           2 &         2 &         2 &         2 &           0 & 1.000000000 & 1.000000000 & 1.000000000 & 0.0000000 &  4.000000e+00 &  5.000000e-01\\\\\n",
       "\t  2 &           8 &         6 &         6 &         8 &           0 & 0.750000000 & 0.750000000 & 1.000000000 & 0.0000000 &  1.600000e+01 &  5.000000e-01\\\\\n",
       "\t  3 &          64 &        26 &        26 &        52 &          12 & 0.406250000 & 0.406250000 & 0.812500000 & 0.1875000 &  2.560000e+02 &  2.500000e-01\\\\\n",
       "\t  4 &         736 &       150 &       150 &       300 &         436 & 0.203804348 & 0.203804348 & 0.407608696 & 0.5923913 &  6.553600e+04 &  1.123047e-02\\\\\n",
       "\t  5 &       10624 &      1082 &      1082 &      2164 &        8460 & 0.101844880 & 0.101844880 & 0.203689759 & 0.7963102 &  4.294967e+09 &  2.473593e-06\\\\\n",
       "\t  6 &      183936 &      9366 &      9366 &     18732 &      165204 & 0.050919885 & 0.050919885 & 0.101839770 & 0.8981602 &  1.844674e+19 &  9.971191e-15\\\\\n",
       "\t  7 &     3715072 &     94586 &     94586 &    189172 &     3525900 & 0.025460072 & 0.025460072 & 0.050920144 & 0.9490799 &  3.402824e+38 &  1.091762e-32\\\\\n",
       "\t  8 &    85755372 &   1091670 &   1091670 &   2183340 &    83572032 & 0.012730048 & 0.012730048 & 0.025460096 & 0.9745399 &  1.157921e+77 &  7.405978e-70\\\\\n",
       "\t  9 &  2226939904 &  14174522 &  14174522 &  28349044 &  2198590860 & 0.006365022 & 0.006365022 & 0.012730044 & 0.9872700 & 1.340781e+154 & 1.660928e-145\\\\\n",
       "\t 10 & 64255903744 & 204495126 & 204495126 & 408990252 & 63846913492 & 0.003182511 & 0.003182511 & 0.006365022 & 0.9936350 &           Inf & 3.574353e-298\\\\\n",
       "\\end{tabular}\n"
      ],
      "text/markdown": [
       "\n",
       "A data.frame: 10 × 12\n",
       "\n",
       "| k &lt;int&gt; | NCF &lt;dbl&gt; | Chain &lt;int&gt; | Chain_1 &lt;int&gt; | Chain_U &lt;int&gt; | Non.Chain_U_NCF &lt;dbl&gt; | Chain_in_NCF &lt;dbl&gt; | Chain_1_in_NCF &lt;dbl&gt; | Chain_U_in_NCF &lt;dbl&gt; | Non.Chain_U_NCF_in_NCF &lt;dbl&gt; | ALL &lt;dbl&gt; | NCF_in_all &lt;dbl&gt; |\n",
       "|---|---|---|---|---|---|---|---|---|---|---|---|\n",
       "|  1 |           2 |         2 |         2 |         2 |           0 | 1.000000000 | 1.000000000 | 1.000000000 | 0.0000000 |  4.000000e+00 |  5.000000e-01 |\n",
       "|  2 |           8 |         6 |         6 |         8 |           0 | 0.750000000 | 0.750000000 | 1.000000000 | 0.0000000 |  1.600000e+01 |  5.000000e-01 |\n",
       "|  3 |          64 |        26 |        26 |        52 |          12 | 0.406250000 | 0.406250000 | 0.812500000 | 0.1875000 |  2.560000e+02 |  2.500000e-01 |\n",
       "|  4 |         736 |       150 |       150 |       300 |         436 | 0.203804348 | 0.203804348 | 0.407608696 | 0.5923913 |  6.553600e+04 |  1.123047e-02 |\n",
       "|  5 |       10624 |      1082 |      1082 |      2164 |        8460 | 0.101844880 | 0.101844880 | 0.203689759 | 0.7963102 |  4.294967e+09 |  2.473593e-06 |\n",
       "|  6 |      183936 |      9366 |      9366 |     18732 |      165204 | 0.050919885 | 0.050919885 | 0.101839770 | 0.8981602 |  1.844674e+19 |  9.971191e-15 |\n",
       "|  7 |     3715072 |     94586 |     94586 |    189172 |     3525900 | 0.025460072 | 0.025460072 | 0.050920144 | 0.9490799 |  3.402824e+38 |  1.091762e-32 |\n",
       "|  8 |    85755372 |   1091670 |   1091670 |   2183340 |    83572032 | 0.012730048 | 0.012730048 | 0.025460096 | 0.9745399 |  1.157921e+77 |  7.405978e-70 |\n",
       "|  9 |  2226939904 |  14174522 |  14174522 |  28349044 |  2198590860 | 0.006365022 | 0.006365022 | 0.012730044 | 0.9872700 | 1.340781e+154 | 1.660928e-145 |\n",
       "| 10 | 64255903744 | 204495126 | 204495126 | 408990252 | 63846913492 | 0.003182511 | 0.003182511 | 0.006365022 | 0.9936350 |           Inf | 3.574353e-298 |\n",
       "\n"
      ],
      "text/plain": [
       "   k  NCF         Chain     Chain_1   Chain_U   Non.Chain_U_NCF Chain_in_NCF\n",
       "1   1           2         2         2         2           0     1.000000000 \n",
       "2   2           8         6         6         8           0     0.750000000 \n",
       "3   3          64        26        26        52          12     0.406250000 \n",
       "4   4         736       150       150       300         436     0.203804348 \n",
       "5   5       10624      1082      1082      2164        8460     0.101844880 \n",
       "6   6      183936      9366      9366     18732      165204     0.050919885 \n",
       "7   7     3715072     94586     94586    189172     3525900     0.025460072 \n",
       "8   8    85755372   1091670   1091670   2183340    83572032     0.012730048 \n",
       "9   9  2226939904  14174522  14174522  28349044  2198590860     0.006365022 \n",
       "10 10 64255903744 204495126 204495126 408990252 63846913492     0.003182511 \n",
       "   Chain_1_in_NCF Chain_U_in_NCF Non.Chain_U_NCF_in_NCF ALL          \n",
       "1  1.000000000    1.000000000    0.0000000               4.000000e+00\n",
       "2  0.750000000    1.000000000    0.0000000               1.600000e+01\n",
       "3  0.406250000    0.812500000    0.1875000               2.560000e+02\n",
       "4  0.203804348    0.407608696    0.5923913               6.553600e+04\n",
       "5  0.101844880    0.203689759    0.7963102               4.294967e+09\n",
       "6  0.050919885    0.101839770    0.8981602               1.844674e+19\n",
       "7  0.025460072    0.050920144    0.9490799               3.402824e+38\n",
       "8  0.012730048    0.025460096    0.9745399               1.157921e+77\n",
       "9  0.006365022    0.012730044    0.9872700              1.340781e+154\n",
       "10 0.003182511    0.006365022    0.9936350                        Inf\n",
       "   NCF_in_all   \n",
       "1   5.000000e-01\n",
       "2   5.000000e-01\n",
       "3   2.500000e-01\n",
       "4   1.123047e-02\n",
       "5   2.473593e-06\n",
       "6   9.971191e-15\n",
       "7   1.091762e-32\n",
       "8   7.405978e-70\n",
       "9  1.660928e-145\n",
       "10 3.574353e-298"
      ]
     },
     "metadata": {},
     "output_type": "display_data"
    }
   ],
   "source": [
    "th_num_frac"
   ]
  },
  {
   "cell_type": "code",
   "execution_count": 11,
   "id": "b73a4faa",
   "metadata": {
    "scrolled": true
   },
   "outputs": [
    {
     "data": {
      "text/html": [
       "<table class=\"dataframe\">\n",
       "<caption>A data.frame: 10 × 12</caption>\n",
       "<thead>\n",
       "\t<tr><th scope=col>k</th><th scope=col>NCF</th><th scope=col>Chain</th><th scope=col>Chain_1</th><th scope=col>Chain_U</th><th scope=col>Non.Chain_U_NCF</th><th scope=col>Chain_in_NCF</th><th scope=col>Chain_1_in_NCF</th><th scope=col>Chain_U_in_NCF</th><th scope=col>Non.Chain_U_NCF_in_NCF</th><th scope=col>ALL</th><th scope=col>NCF_in_all</th></tr>\n",
       "\t<tr><th scope=col>&lt;int&gt;</th><th scope=col>&lt;dbl&gt;</th><th scope=col>&lt;int&gt;</th><th scope=col>&lt;int&gt;</th><th scope=col>&lt;int&gt;</th><th scope=col>&lt;dbl&gt;</th><th scope=col>&lt;dbl&gt;</th><th scope=col>&lt;dbl&gt;</th><th scope=col>&lt;dbl&gt;</th><th scope=col>&lt;dbl&gt;</th><th scope=col>&lt;dbl&gt;</th><th scope=col>&lt;dbl&gt;</th></tr>\n",
       "</thead>\n",
       "<tbody>\n",
       "\t<tr><td> 1</td><td>          2</td><td>        2</td><td>        2</td><td>        2</td><td>          0</td><td>1.000000000</td><td>1.000000000</td><td>1.000000000</td><td>0.0000000</td><td> 4.000000e+00</td><td> 5.000000e-01</td></tr>\n",
       "\t<tr><td> 2</td><td>          8</td><td>        6</td><td>        6</td><td>        8</td><td>          0</td><td>0.750000000</td><td>0.750000000</td><td>1.000000000</td><td>0.0000000</td><td> 1.600000e+01</td><td> 5.000000e-01</td></tr>\n",
       "\t<tr><td> 3</td><td>         64</td><td>       26</td><td>       26</td><td>       52</td><td>         12</td><td>0.406250000</td><td>0.406250000</td><td>0.812500000</td><td>0.1875000</td><td> 2.560000e+02</td><td> 2.500000e-01</td></tr>\n",
       "\t<tr><td> 4</td><td>        736</td><td>      150</td><td>      150</td><td>      300</td><td>        436</td><td>0.203804348</td><td>0.203804348</td><td>0.407608696</td><td>0.5923913</td><td> 6.553600e+04</td><td> 1.123047e-02</td></tr>\n",
       "\t<tr><td> 5</td><td>      10624</td><td>     1082</td><td>     1082</td><td>     2164</td><td>       8460</td><td>0.101844880</td><td>0.101844880</td><td>0.203689759</td><td>0.7963102</td><td> 4.294967e+09</td><td> 2.473593e-06</td></tr>\n",
       "\t<tr><td> 6</td><td>     183936</td><td>     9366</td><td>     9366</td><td>    18732</td><td>     165204</td><td>0.050919885</td><td>0.050919885</td><td>0.101839770</td><td>0.8981602</td><td> 1.844674e+19</td><td> 9.971191e-15</td></tr>\n",
       "\t<tr><td> 7</td><td>    3715072</td><td>    94586</td><td>    94586</td><td>   189172</td><td>    3525900</td><td>0.025460072</td><td>0.025460072</td><td>0.050920144</td><td>0.9490799</td><td> 3.402824e+38</td><td> 1.091762e-32</td></tr>\n",
       "\t<tr><td> 8</td><td>   85755372</td><td>  1091670</td><td>  1091670</td><td>  2183340</td><td>   83572032</td><td>0.012730048</td><td>0.012730048</td><td>0.025460096</td><td>0.9745399</td><td> 1.157921e+77</td><td> 7.405978e-70</td></tr>\n",
       "\t<tr><td> 9</td><td> 2226939904</td><td> 14174522</td><td> 14174522</td><td> 28349044</td><td> 2198590860</td><td>0.006365022</td><td>0.006365022</td><td>0.012730044</td><td>0.9872700</td><td>1.340781e+154</td><td>1.660928e-145</td></tr>\n",
       "\t<tr><td>10</td><td>64255903744</td><td>204495126</td><td>204495126</td><td>408990252</td><td>63846913492</td><td>0.003182511</td><td>0.003182511</td><td>0.006365022</td><td>0.9936350</td><td>          Inf</td><td>3.574353e-298</td></tr>\n",
       "</tbody>\n",
       "</table>\n"
      ],
      "text/latex": [
       "A data.frame: 10 × 12\n",
       "\\begin{tabular}{llllllllllll}\n",
       " k & NCF & Chain & Chain\\_1 & Chain\\_U & Non.Chain\\_U\\_NCF & Chain\\_in\\_NCF & Chain\\_1\\_in\\_NCF & Chain\\_U\\_in\\_NCF & Non.Chain\\_U\\_NCF\\_in\\_NCF & ALL & NCF\\_in\\_all\\\\\n",
       " <int> & <dbl> & <int> & <int> & <int> & <dbl> & <dbl> & <dbl> & <dbl> & <dbl> & <dbl> & <dbl>\\\\\n",
       "\\hline\n",
       "\t  1 &           2 &         2 &         2 &         2 &           0 & 1.000000000 & 1.000000000 & 1.000000000 & 0.0000000 &  4.000000e+00 &  5.000000e-01\\\\\n",
       "\t  2 &           8 &         6 &         6 &         8 &           0 & 0.750000000 & 0.750000000 & 1.000000000 & 0.0000000 &  1.600000e+01 &  5.000000e-01\\\\\n",
       "\t  3 &          64 &        26 &        26 &        52 &          12 & 0.406250000 & 0.406250000 & 0.812500000 & 0.1875000 &  2.560000e+02 &  2.500000e-01\\\\\n",
       "\t  4 &         736 &       150 &       150 &       300 &         436 & 0.203804348 & 0.203804348 & 0.407608696 & 0.5923913 &  6.553600e+04 &  1.123047e-02\\\\\n",
       "\t  5 &       10624 &      1082 &      1082 &      2164 &        8460 & 0.101844880 & 0.101844880 & 0.203689759 & 0.7963102 &  4.294967e+09 &  2.473593e-06\\\\\n",
       "\t  6 &      183936 &      9366 &      9366 &     18732 &      165204 & 0.050919885 & 0.050919885 & 0.101839770 & 0.8981602 &  1.844674e+19 &  9.971191e-15\\\\\n",
       "\t  7 &     3715072 &     94586 &     94586 &    189172 &     3525900 & 0.025460072 & 0.025460072 & 0.050920144 & 0.9490799 &  3.402824e+38 &  1.091762e-32\\\\\n",
       "\t  8 &    85755372 &   1091670 &   1091670 &   2183340 &    83572032 & 0.012730048 & 0.012730048 & 0.025460096 & 0.9745399 &  1.157921e+77 &  7.405978e-70\\\\\n",
       "\t  9 &  2226939904 &  14174522 &  14174522 &  28349044 &  2198590860 & 0.006365022 & 0.006365022 & 0.012730044 & 0.9872700 & 1.340781e+154 & 1.660928e-145\\\\\n",
       "\t 10 & 64255903744 & 204495126 & 204495126 & 408990252 & 63846913492 & 0.003182511 & 0.003182511 & 0.006365022 & 0.9936350 &           Inf & 3.574353e-298\\\\\n",
       "\\end{tabular}\n"
      ],
      "text/markdown": [
       "\n",
       "A data.frame: 10 × 12\n",
       "\n",
       "| k &lt;int&gt; | NCF &lt;dbl&gt; | Chain &lt;int&gt; | Chain_1 &lt;int&gt; | Chain_U &lt;int&gt; | Non.Chain_U_NCF &lt;dbl&gt; | Chain_in_NCF &lt;dbl&gt; | Chain_1_in_NCF &lt;dbl&gt; | Chain_U_in_NCF &lt;dbl&gt; | Non.Chain_U_NCF_in_NCF &lt;dbl&gt; | ALL &lt;dbl&gt; | NCF_in_all &lt;dbl&gt; |\n",
       "|---|---|---|---|---|---|---|---|---|---|---|---|\n",
       "|  1 |           2 |         2 |         2 |         2 |           0 | 1.000000000 | 1.000000000 | 1.000000000 | 0.0000000 |  4.000000e+00 |  5.000000e-01 |\n",
       "|  2 |           8 |         6 |         6 |         8 |           0 | 0.750000000 | 0.750000000 | 1.000000000 | 0.0000000 |  1.600000e+01 |  5.000000e-01 |\n",
       "|  3 |          64 |        26 |        26 |        52 |          12 | 0.406250000 | 0.406250000 | 0.812500000 | 0.1875000 |  2.560000e+02 |  2.500000e-01 |\n",
       "|  4 |         736 |       150 |       150 |       300 |         436 | 0.203804348 | 0.203804348 | 0.407608696 | 0.5923913 |  6.553600e+04 |  1.123047e-02 |\n",
       "|  5 |       10624 |      1082 |      1082 |      2164 |        8460 | 0.101844880 | 0.101844880 | 0.203689759 | 0.7963102 |  4.294967e+09 |  2.473593e-06 |\n",
       "|  6 |      183936 |      9366 |      9366 |     18732 |      165204 | 0.050919885 | 0.050919885 | 0.101839770 | 0.8981602 |  1.844674e+19 |  9.971191e-15 |\n",
       "|  7 |     3715072 |     94586 |     94586 |    189172 |     3525900 | 0.025460072 | 0.025460072 | 0.050920144 | 0.9490799 |  3.402824e+38 |  1.091762e-32 |\n",
       "|  8 |    85755372 |   1091670 |   1091670 |   2183340 |    83572032 | 0.012730048 | 0.012730048 | 0.025460096 | 0.9745399 |  1.157921e+77 |  7.405978e-70 |\n",
       "|  9 |  2226939904 |  14174522 |  14174522 |  28349044 |  2198590860 | 0.006365022 | 0.006365022 | 0.012730044 | 0.9872700 | 1.340781e+154 | 1.660928e-145 |\n",
       "| 10 | 64255903744 | 204495126 | 204495126 | 408990252 | 63846913492 | 0.003182511 | 0.003182511 | 0.006365022 | 0.9936350 |           Inf | 3.574353e-298 |\n",
       "\n"
      ],
      "text/plain": [
       "   k  NCF         Chain     Chain_1   Chain_U   Non.Chain_U_NCF Chain_in_NCF\n",
       "1   1           2         2         2         2           0     1.000000000 \n",
       "2   2           8         6         6         8           0     0.750000000 \n",
       "3   3          64        26        26        52          12     0.406250000 \n",
       "4   4         736       150       150       300         436     0.203804348 \n",
       "5   5       10624      1082      1082      2164        8460     0.101844880 \n",
       "6   6      183936      9366      9366     18732      165204     0.050919885 \n",
       "7   7     3715072     94586     94586    189172     3525900     0.025460072 \n",
       "8   8    85755372   1091670   1091670   2183340    83572032     0.012730048 \n",
       "9   9  2226939904  14174522  14174522  28349044  2198590860     0.006365022 \n",
       "10 10 64255903744 204495126 204495126 408990252 63846913492     0.003182511 \n",
       "   Chain_1_in_NCF Chain_U_in_NCF Non.Chain_U_NCF_in_NCF ALL          \n",
       "1  1.000000000    1.000000000    0.0000000               4.000000e+00\n",
       "2  0.750000000    1.000000000    0.0000000               1.600000e+01\n",
       "3  0.406250000    0.812500000    0.1875000               2.560000e+02\n",
       "4  0.203804348    0.407608696    0.5923913               6.553600e+04\n",
       "5  0.101844880    0.203689759    0.7963102               4.294967e+09\n",
       "6  0.050919885    0.101839770    0.8981602               1.844674e+19\n",
       "7  0.025460072    0.050920144    0.9490799               3.402824e+38\n",
       "8  0.012730048    0.025460096    0.9745399               1.157921e+77\n",
       "9  0.006365022    0.012730044    0.9872700              1.340781e+154\n",
       "10 0.003182511    0.006365022    0.9936350                        Inf\n",
       "   NCF_in_all   \n",
       "1   5.000000e-01\n",
       "2   5.000000e-01\n",
       "3   2.500000e-01\n",
       "4   1.123047e-02\n",
       "5   2.473593e-06\n",
       "6   9.971191e-15\n",
       "7   1.091762e-32\n",
       "8   7.405978e-70\n",
       "9  1.660928e-145\n",
       "10 3.574353e-298"
      ]
     },
     "metadata": {},
     "output_type": "display_data"
    }
   ],
   "source": [
    "th_num_frac"
   ]
  },
  {
   "cell_type": "code",
   "execution_count": 12,
   "id": "b0af1e68",
   "metadata": {},
   "outputs": [
    {
     "name": "stdout",
     "output_type": "stream",
     "text": [
      "[1] \"Enrichment of the NCFs functions within ALL BFs\"\n",
      "[1] \"--------------------------------------------------\"\n",
      " [1] 0 0 0 0 0 0 0 0 0 0\n"
     ]
    }
   ],
   "source": [
    "# Test 1: Enrichment of NCFs within ALL BFs:\n",
    "enrich_NCF_in_ALL <- c()\n",
    "for (k in emp_num_frac$k){\n",
    "    th_NCF_k <- th_num_frac$NCF[k]\n",
    "    th_ALL_k <- th_num_frac$ALL[k]\n",
    "    emp_NCF_k <- emp_num_frac$NCF[k]\n",
    "    emp_ALL_k <- emp_num_frac$ALL[k]\n",
    "    pval_NCF_ALL_k <- pbinom(emp_NCF_k, emp_ALL_k, prob=th_NCF_k/th_ALL_k, lower.tail=FALSE)\n",
    "    enrich_NCF_in_ALL <- c(enrich_NCF_in_ALL, pval_NCF_ALL_k)\n",
    "}\n",
    "print ('Enrichment of the NCFs functions within ALL BFs')\n",
    "print ('--------------------------------------------------')\n",
    "print (enrich_NCF_in_ALL)"
   ]
  },
  {
   "cell_type": "code",
   "execution_count": 13,
   "id": "2fab7243",
   "metadata": {},
   "outputs": [
    {
     "data": {
      "text/html": [
       "'Empirical ALL is 1998'"
      ],
      "text/latex": [
       "'Empirical ALL is 1998'"
      ],
      "text/markdown": [
       "'Empirical ALL is 1998'"
      ],
      "text/plain": [
       "[1] \"Empirical ALL is 1998\""
      ]
     },
     "metadata": {},
     "output_type": "display_data"
    },
    {
     "data": {
      "text/html": [
       "'Empirical NCF is 1998'"
      ],
      "text/latex": [
       "'Empirical NCF is 1998'"
      ],
      "text/markdown": [
       "'Empirical NCF is 1998'"
      ],
      "text/plain": [
       "[1] \"Empirical NCF is 1998\""
      ]
     },
     "metadata": {},
     "output_type": "display_data"
    },
    {
     "data": {
      "text/html": [
       "'Theory ALL is 4'"
      ],
      "text/latex": [
       "'Theory ALL is 4'"
      ],
      "text/markdown": [
       "'Theory ALL is 4'"
      ],
      "text/plain": [
       "[1] \"Theory ALL is 4\""
      ]
     },
     "metadata": {},
     "output_type": "display_data"
    },
    {
     "data": {
      "text/html": [
       "'Theory NCF is 2'"
      ],
      "text/latex": [
       "'Theory NCF is 2'"
      ],
      "text/markdown": [
       "'Theory NCF is 2'"
      ],
      "text/plain": [
       "[1] \"Theory NCF is 2\""
      ]
     },
     "metadata": {},
     "output_type": "display_data"
    },
    {
     "data": {
      "text/html": [
       "'Theory fraction is 0.5'"
      ],
      "text/latex": [
       "'Theory fraction is 0.5'"
      ],
      "text/markdown": [
       "'Theory fraction is 0.5'"
      ],
      "text/plain": [
       "[1] \"Theory fraction is 0.5\""
      ]
     },
     "metadata": {},
     "output_type": "display_data"
    },
    {
     "data": {
      "text/html": [
       "'Empirical fraction is 1'"
      ],
      "text/latex": [
       "'Empirical fraction is 1'"
      ],
      "text/markdown": [
       "'Empirical fraction is 1'"
      ],
      "text/plain": [
       "[1] \"Empirical fraction is 1\""
      ]
     },
     "metadata": {},
     "output_type": "display_data"
    },
    {
     "data": {
      "text/html": [
       "'The one sided p-value is: 0'"
      ],
      "text/latex": [
       "'The one sided p-value is: 0'"
      ],
      "text/markdown": [
       "'The one sided p-value is: 0'"
      ],
      "text/plain": [
       "[1] \"The one sided p-value is: 0\""
      ]
     },
     "metadata": {},
     "output_type": "display_data"
    }
   ],
   "source": [
    "k = 1\n",
    "sprintf ('Empirical ALL is %s', emp_num_frac$ALL[k])\n",
    "sprintf ('Empirical NCF is %s', emp_num_frac$NCF[k])\n",
    "sprintf ('Theory ALL is %s', th_num_frac$ALL[k])\n",
    "sprintf ('Theory NCF is %s', th_num_frac$NCF[k])\n",
    "sprintf ('Theory fraction is %s', prob=th_num_frac$NCF[k]/th_num_frac$ALL[k])\n",
    "sprintf ('Empirical fraction is %s', prob=emp_num_frac$NCF[k]/emp_num_frac$ALL[k])\n",
    "\n",
    "pval <- pbinom(emp_num_frac$NCF[k], emp_num_frac$ALL[k], prob=th_num_frac$NCF[k]/th_num_frac$ALL[k], lower.tail=FALSE)\n",
    "sprintf(\"The one sided p-value is: %s\", pval)"
   ]
  },
  {
   "cell_type": "code",
   "execution_count": 17,
   "id": "f2add6a5",
   "metadata": {},
   "outputs": [
    {
     "data": {
      "text/html": [
       "'Empirical Chain is 0'"
      ],
      "text/latex": [
       "'Empirical Chain is 0'"
      ],
      "text/markdown": [
       "'Empirical Chain is 0'"
      ],
      "text/plain": [
       "[1] \"Empirical Chain is 0\""
      ]
     },
     "metadata": {},
     "output_type": "display_data"
    },
    {
     "data": {
      "text/html": [
       "'Empirical NCF is 16'"
      ],
      "text/latex": [
       "'Empirical NCF is 16'"
      ],
      "text/markdown": [
       "'Empirical NCF is 16'"
      ],
      "text/plain": [
       "[1] \"Empirical NCF is 16\""
      ]
     },
     "metadata": {},
     "output_type": "display_data"
    },
    {
     "data": {
      "text/html": [
       "'Theory chain is 204495126'"
      ],
      "text/latex": [
       "'Theory chain is 204495126'"
      ],
      "text/markdown": [
       "'Theory chain is 204495126'"
      ],
      "text/plain": [
       "[1] \"Theory chain is 204495126\""
      ]
     },
     "metadata": {},
     "output_type": "display_data"
    },
    {
     "data": {
      "text/html": [
       "'Theory NCF is 64255903744'"
      ],
      "text/latex": [
       "'Theory NCF is 64255903744'"
      ],
      "text/markdown": [
       "'Theory NCF is 64255903744'"
      ],
      "text/plain": [
       "[1] \"Theory NCF is 64255903744\""
      ]
     },
     "metadata": {},
     "output_type": "display_data"
    },
    {
     "data": {
      "text/html": [
       "'Theory fraction of Chain within NCFs is 0.00318251108590306'"
      ],
      "text/latex": [
       "'Theory fraction of Chain within NCFs is 0.00318251108590306'"
      ],
      "text/markdown": [
       "'Theory fraction of Chain within NCFs is 0.00318251108590306'"
      ],
      "text/plain": [
       "[1] \"Theory fraction of Chain within NCFs is 0.00318251108590306\""
      ]
     },
     "metadata": {},
     "output_type": "display_data"
    },
    {
     "data": {
      "text/html": [
       "'Empirical fraction of Chain within NCFs is 0'"
      ],
      "text/latex": [
       "'Empirical fraction of Chain within NCFs is 0'"
      ],
      "text/markdown": [
       "'Empirical fraction of Chain within NCFs is 0'"
      ],
      "text/plain": [
       "[1] \"Empirical fraction of Chain within NCFs is 0\""
      ]
     },
     "metadata": {},
     "output_type": "display_data"
    },
    {
     "data": {
      "text/html": [
       "'The one sided p-value is: 0.0497226377279021'"
      ],
      "text/latex": [
       "'The one sided p-value is: 0.0497226377279021'"
      ],
      "text/markdown": [
       "'The one sided p-value is: 0.0497226377279021'"
      ],
      "text/plain": [
       "[1] \"The one sided p-value is: 0.0497226377279021\""
      ]
     },
     "metadata": {},
     "output_type": "display_data"
    }
   ],
   "source": [
    "k = 10\n",
    "sprintf ('Empirical Chain is %s', emp_num_frac$Chain[k])\n",
    "sprintf ('Empirical NCF is %s', emp_num_frac$NCF[k])\n",
    "sprintf ('Theory chain is %s', th_num_frac$Chain[k])\n",
    "sprintf ('Theory NCF is %s', th_num_frac$NCF[k])\n",
    "sprintf ('Theory fraction of Chain within NCFs is %s', th_num_frac$Chain[k]/th_num_frac$NCF[k])\n",
    "sprintf ('Empirical fraction of Chain within NCFs is %s', emp_num_frac$Chain[k]/emp_num_frac$NCF[k])\n",
    "\n",
    "pval <- pbinom(emp_num_frac$Chain[k], emp_num_frac$NCF[k], prob=th_num_frac$Chain[k]/th_num_frac$NCF[k], lower.tail=FALSE)\n",
    "sprintf(\"The one sided p-value is: %s\", pval)"
   ]
  },
  {
   "cell_type": "code",
   "execution_count": 11,
   "id": "e6dafd5b",
   "metadata": {},
   "outputs": [
    {
     "name": "stdout",
     "output_type": "stream",
     "text": [
      "[1] 1\n",
      "[1] 1998\n",
      "[1] 1998\n",
      "[1] 2\n",
      "[1] 1045\n",
      "[1] 1625\n",
      "[1] 3\n",
      "[1] 279\n",
      "[1] 886\n",
      "[1] 4\n",
      "[1] 97\n",
      "[1] 502\n",
      "[1] 5\n",
      "[1] 31\n",
      "[1] 297\n",
      "[1] 6\n",
      "[1] 25\n",
      "[1] 158\n",
      "[1] 7\n",
      "[1] 7\n",
      "[1] 80\n",
      "[1] 8\n",
      "[1] 3\n",
      "[1] 50\n",
      "[1] 9\n",
      "[1] 0\n",
      "[1] 29\n",
      "[1] 10\n",
      "[1] 0\n",
      "[1] 16\n",
      "[1] \"Enrichment of the Chain-0 functions within the NCFs\"\n",
      "[1] \"---------------------------------------------------\"\n",
      " [1] 0.000000e+00 1.000000e+00 1.000000e+00 7.002022e-01 3.958435e-01\n",
      " [6] 1.338856e-07 1.003278e-03 3.794602e-03 1.690416e-01 4.972264e-02\n",
      "[1] \"\"\n",
      "[1] \"Enrichment of the Chain-1 functions within the NCFs\"\n",
      "[1] \"---------------------------------------------------\"\n",
      " [1] 0.000000e+00 1.000000e+00 1.637133e-13 5.947638e-32 3.613773e-71\n",
      " [6] 1.443035e-41 3.618702e-18 3.880123e-34 1.270637e-23 8.388298e-22\n",
      "[1] \"\"\n",
      "[1] \"Enrichment of the Chain-U functions within the NCFs\"\n",
      "[1] \"---------------------------------------------------\"\n",
      " [1] 0.000000e+00 0.000000e+00 9.816280e-03 1.132946e-23 1.283721e-54\n",
      " [6] 1.907781e-47 1.145337e-18 1.187190e-31 1.902899e-19 8.441184e-19\n",
      "[1] \"Enrichment of the Non-Chain-U functions within the NCFs\"\n",
      "[1] \"---------------------------------------------------\"\n",
      " [1] 0.0000000 0.0000000 0.9875624 1.0000000 1.0000000 1.0000000 1.0000000\n",
      " [8] 1.0000000 1.0000000 1.0000000\n"
     ]
    }
   ],
   "source": [
    "# Test 2: relative enrichment of Chain functions within NCFs and non-Chain NCF within NCF:\n",
    "enrich_ChF_0_in_NCF <- c()\n",
    "enrich_ChF_1_in_NCF <- c()\n",
    "enrich_ChF_U_in_NCF <- c()\n",
    "enrich_non_ChF_U_in_NCF <- c()\n",
    "\n",
    "#-------------------------------------------------------------------------------------------------------------------------------\n",
    "# Compute enrichments for Chain 0 functions:\n",
    "for (k in emp_num_frac$k){\n",
    "    th_ChF_0_k <- th_num_frac$Chain[k]\n",
    "    th_NCF_k <- th_num_frac$NCF[k]\n",
    "    emp_ChF_0_k <- emp_num_frac$Chain[k]\n",
    "    print (k)\n",
    "    print (emp_ChF_0_k)\n",
    "    emp_NCF_k <- emp_num_frac$NCF[k]\n",
    "    print (emp_NCF_k)\n",
    "    prob=th_ChF_0_k/th_NCF_k\n",
    "    pval_ChF_0_NCF_k <- pbinom(emp_ChF_0_k, emp_NCF_k, prob=th_ChF_0_k/th_NCF_k, lower.tail=FALSE)\n",
    "    enrich_ChF_0_in_NCF <- c(enrich_ChF_0_in_NCF, pval_ChF_0_NCF_k)\n",
    "}\n",
    "print ('Enrichment of the Chain-0 functions within the NCFs')\n",
    "print ('---------------------------------------------------')\n",
    "print (enrich_ChF_0_in_NCF)\n",
    "print ('')\n",
    "\n",
    "#-------------------------------------------------------------------------------------------------------------------------------\n",
    "# Compute enrichments for Chain 1 functions:\n",
    "for (k in emp_num_frac$k){\n",
    "    th_ChF_1_k <- th_num_frac$Chain_1[k]\n",
    "    th_NCF_k <- th_num_frac$NCF[k]\n",
    "    emp_ChF_1_k <- emp_num_frac$Chain_1[k]\n",
    "    emp_NCF_k <- emp_num_frac$NCF[k]\n",
    "    pval_ChF_1_NCF_k <- pbinom(emp_ChF_1_k, emp_NCF_k, prob=th_ChF_1_k/th_NCF_k, lower.tail=FALSE)\n",
    "    enrich_ChF_1_in_NCF <- c(enrich_ChF_1_in_NCF, pval_ChF_1_NCF_k)\n",
    "}\n",
    "\n",
    "print ('Enrichment of the Chain-1 functions within the NCFs')\n",
    "print ('---------------------------------------------------')\n",
    "print (enrich_ChF_1_in_NCF)\n",
    "print ('')\n",
    "\n",
    "#-------------------------------------------------------------------------------------------------------------------------------\n",
    "# Compute enrichments for Chain U functions:\n",
    "for (k in emp_num_frac$k){\n",
    "    th_ChF_U_k <- th_num_frac$Chain_U[k]\n",
    "    th_NCF_k <- th_num_frac$NCF[k]\n",
    "    emp_ChF_U_k <- emp_num_frac$Chain_U[k]\n",
    "    emp_NCF_k <- emp_num_frac$NCF[k]\n",
    "    pval_ChF_U_NCF_k <- pbinom(emp_ChF_U_k, emp_NCF_k, prob=th_ChF_U_k/th_NCF_k, lower.tail=FALSE)\n",
    "    enrich_ChF_U_in_NCF <- c(enrich_ChF_U_in_NCF, pval_ChF_U_NCF_k)\n",
    "}\n",
    "\n",
    "print ('Enrichment of the Chain-U functions within the NCFs')\n",
    "print ('---------------------------------------------------')\n",
    "print (enrich_ChF_U_in_NCF)\n",
    "\n",
    "#-------------------------------------------------------------------------------------------------------------------------------\n",
    "# Compute enrichments for Non-Chain-U functions:\n",
    "for (k in emp_num_frac$k){\n",
    "    th_non_ChF_U_k <- th_num_frac$Non.Chain_U_NCF[k]\n",
    "    th_NCF_k <- th_num_frac$NCF[k]\n",
    "    emp_non_ChF_U_k <- emp_num_frac$Non.Chain_U_NCF[k]\n",
    "    emp_NCF_k <- emp_num_frac$NCF[k]\n",
    "    pval_non_ChF_U_NCF_k <- pbinom(emp_non_ChF_U_k, emp_NCF_k, prob=th_non_ChF_U_k/th_NCF_k, lower.tail=FALSE)\n",
    "    enrich_non_ChF_U_in_NCF <- c(enrich_non_ChF_U_in_NCF, pval_non_ChF_U_NCF_k)\n",
    "}\n",
    "\n",
    "print ('Enrichment of the Non-Chain-U functions within the NCFs')\n",
    "print ('---------------------------------------------------')\n",
    "print (enrich_non_ChF_U_in_NCF)"
   ]
  },
  {
   "cell_type": "code",
   "execution_count": 16,
   "id": "e55c4edd",
   "metadata": {},
   "outputs": [
    {
     "data": {
      "text/html": [
       "<table class=\"dataframe\">\n",
       "<caption>A data.frame: 10 × 12</caption>\n",
       "<thead>\n",
       "\t<tr><th scope=col>k</th><th scope=col>ALL</th><th scope=col>NCF</th><th scope=col>Chain</th><th scope=col>Chain_1</th><th scope=col>Chain_U</th><th scope=col>Non.Chain_U_NCF</th><th scope=col>NCF_in_all</th><th scope=col>Chain_in_NCF</th><th scope=col>Chain_1_in_NCF</th><th scope=col>Chain_U_in_NCF</th><th scope=col>Non.Chain_U_NCF_in_NCF</th></tr>\n",
       "\t<tr><th scope=col>&lt;int&gt;</th><th scope=col>&lt;int&gt;</th><th scope=col>&lt;int&gt;</th><th scope=col>&lt;int&gt;</th><th scope=col>&lt;int&gt;</th><th scope=col>&lt;int&gt;</th><th scope=col>&lt;int&gt;</th><th scope=col>&lt;dbl&gt;</th><th scope=col>&lt;dbl&gt;</th><th scope=col>&lt;dbl&gt;</th><th scope=col>&lt;dbl&gt;</th><th scope=col>&lt;dbl&gt;</th></tr>\n",
       "</thead>\n",
       "<tbody>\n",
       "\t<tr><td> 1</td><td>1998</td><td>1998</td><td>1998</td><td>1998</td><td>1998</td><td>  0</td><td>1.0000000</td><td>1.0000000</td><td>1.0000000</td><td>1.0000000</td><td>0.0000000</td></tr>\n",
       "\t<tr><td> 2</td><td>1636</td><td>1625</td><td>1045</td><td> 986</td><td>1625</td><td>  0</td><td>0.9932763</td><td>0.6430769</td><td>0.6067692</td><td>1.0000000</td><td>0.0000000</td></tr>\n",
       "\t<tr><td> 3</td><td> 915</td><td> 886</td><td> 279</td><td> 467</td><td> 746</td><td>140</td><td>0.9683060</td><td>0.3148984</td><td>0.5270880</td><td>0.8419865</td><td>0.1580135</td></tr>\n",
       "\t<tr><td> 4</td><td> 558</td><td> 502</td><td>  97</td><td> 218</td><td> 315</td><td>187</td><td>0.8996416</td><td>0.1932271</td><td>0.4342629</td><td>0.6274900</td><td>0.3725100</td></tr>\n",
       "\t<tr><td> 5</td><td> 366</td><td> 297</td><td>  31</td><td> 152</td><td> 183</td><td>114</td><td>0.8114754</td><td>0.1043771</td><td>0.5117845</td><td>0.6161616</td><td>0.3838384</td></tr>\n",
       "\t<tr><td> 6</td><td> 224</td><td> 158</td><td>  25</td><td>  64</td><td>  89</td><td> 69</td><td>0.7053571</td><td>0.1582278</td><td>0.4050633</td><td>0.5632911</td><td>0.4367089</td></tr>\n",
       "\t<tr><td> 7</td><td> 119</td><td>  80</td><td>   7</td><td>  22</td><td>  29</td><td> 51</td><td>0.6722689</td><td>0.0875000</td><td>0.2750000</td><td>0.3625000</td><td>0.6375000</td></tr>\n",
       "\t<tr><td> 8</td><td>  80</td><td>  50</td><td>   3</td><td>  24</td><td>  27</td><td> 23</td><td>0.6250000</td><td>0.0600000</td><td>0.4800000</td><td>0.5400000</td><td>0.4600000</td></tr>\n",
       "\t<tr><td> 9</td><td>  53</td><td>  29</td><td>   0</td><td>  13</td><td>  13</td><td> 16</td><td>0.5471698</td><td>0.0000000</td><td>0.4482759</td><td>0.4482759</td><td>0.5517241</td></tr>\n",
       "\t<tr><td>10</td><td>  41</td><td>  16</td><td>   0</td><td>   9</td><td>   9</td><td>  7</td><td>0.3902439</td><td>0.0000000</td><td>0.5625000</td><td>0.5625000</td><td>0.4375000</td></tr>\n",
       "</tbody>\n",
       "</table>\n"
      ],
      "text/latex": [
       "A data.frame: 10 × 12\n",
       "\\begin{tabular}{llllllllllll}\n",
       " k & ALL & NCF & Chain & Chain\\_1 & Chain\\_U & Non.Chain\\_U\\_NCF & NCF\\_in\\_all & Chain\\_in\\_NCF & Chain\\_1\\_in\\_NCF & Chain\\_U\\_in\\_NCF & Non.Chain\\_U\\_NCF\\_in\\_NCF\\\\\n",
       " <int> & <int> & <int> & <int> & <int> & <int> & <int> & <dbl> & <dbl> & <dbl> & <dbl> & <dbl>\\\\\n",
       "\\hline\n",
       "\t  1 & 1998 & 1998 & 1998 & 1998 & 1998 &   0 & 1.0000000 & 1.0000000 & 1.0000000 & 1.0000000 & 0.0000000\\\\\n",
       "\t  2 & 1636 & 1625 & 1045 &  986 & 1625 &   0 & 0.9932763 & 0.6430769 & 0.6067692 & 1.0000000 & 0.0000000\\\\\n",
       "\t  3 &  915 &  886 &  279 &  467 &  746 & 140 & 0.9683060 & 0.3148984 & 0.5270880 & 0.8419865 & 0.1580135\\\\\n",
       "\t  4 &  558 &  502 &   97 &  218 &  315 & 187 & 0.8996416 & 0.1932271 & 0.4342629 & 0.6274900 & 0.3725100\\\\\n",
       "\t  5 &  366 &  297 &   31 &  152 &  183 & 114 & 0.8114754 & 0.1043771 & 0.5117845 & 0.6161616 & 0.3838384\\\\\n",
       "\t  6 &  224 &  158 &   25 &   64 &   89 &  69 & 0.7053571 & 0.1582278 & 0.4050633 & 0.5632911 & 0.4367089\\\\\n",
       "\t  7 &  119 &   80 &    7 &   22 &   29 &  51 & 0.6722689 & 0.0875000 & 0.2750000 & 0.3625000 & 0.6375000\\\\\n",
       "\t  8 &   80 &   50 &    3 &   24 &   27 &  23 & 0.6250000 & 0.0600000 & 0.4800000 & 0.5400000 & 0.4600000\\\\\n",
       "\t  9 &   53 &   29 &    0 &   13 &   13 &  16 & 0.5471698 & 0.0000000 & 0.4482759 & 0.4482759 & 0.5517241\\\\\n",
       "\t 10 &   41 &   16 &    0 &    9 &    9 &   7 & 0.3902439 & 0.0000000 & 0.5625000 & 0.5625000 & 0.4375000\\\\\n",
       "\\end{tabular}\n"
      ],
      "text/markdown": [
       "\n",
       "A data.frame: 10 × 12\n",
       "\n",
       "| k &lt;int&gt; | ALL &lt;int&gt; | NCF &lt;int&gt; | Chain &lt;int&gt; | Chain_1 &lt;int&gt; | Chain_U &lt;int&gt; | Non.Chain_U_NCF &lt;int&gt; | NCF_in_all &lt;dbl&gt; | Chain_in_NCF &lt;dbl&gt; | Chain_1_in_NCF &lt;dbl&gt; | Chain_U_in_NCF &lt;dbl&gt; | Non.Chain_U_NCF_in_NCF &lt;dbl&gt; |\n",
       "|---|---|---|---|---|---|---|---|---|---|---|---|\n",
       "|  1 | 1998 | 1998 | 1998 | 1998 | 1998 |   0 | 1.0000000 | 1.0000000 | 1.0000000 | 1.0000000 | 0.0000000 |\n",
       "|  2 | 1636 | 1625 | 1045 |  986 | 1625 |   0 | 0.9932763 | 0.6430769 | 0.6067692 | 1.0000000 | 0.0000000 |\n",
       "|  3 |  915 |  886 |  279 |  467 |  746 | 140 | 0.9683060 | 0.3148984 | 0.5270880 | 0.8419865 | 0.1580135 |\n",
       "|  4 |  558 |  502 |   97 |  218 |  315 | 187 | 0.8996416 | 0.1932271 | 0.4342629 | 0.6274900 | 0.3725100 |\n",
       "|  5 |  366 |  297 |   31 |  152 |  183 | 114 | 0.8114754 | 0.1043771 | 0.5117845 | 0.6161616 | 0.3838384 |\n",
       "|  6 |  224 |  158 |   25 |   64 |   89 |  69 | 0.7053571 | 0.1582278 | 0.4050633 | 0.5632911 | 0.4367089 |\n",
       "|  7 |  119 |   80 |    7 |   22 |   29 |  51 | 0.6722689 | 0.0875000 | 0.2750000 | 0.3625000 | 0.6375000 |\n",
       "|  8 |   80 |   50 |    3 |   24 |   27 |  23 | 0.6250000 | 0.0600000 | 0.4800000 | 0.5400000 | 0.4600000 |\n",
       "|  9 |   53 |   29 |    0 |   13 |   13 |  16 | 0.5471698 | 0.0000000 | 0.4482759 | 0.4482759 | 0.5517241 |\n",
       "| 10 |   41 |   16 |    0 |    9 |    9 |   7 | 0.3902439 | 0.0000000 | 0.5625000 | 0.5625000 | 0.4375000 |\n",
       "\n"
      ],
      "text/plain": [
       "   k  ALL  NCF  Chain Chain_1 Chain_U Non.Chain_U_NCF NCF_in_all Chain_in_NCF\n",
       "1   1 1998 1998 1998  1998    1998      0             1.0000000  1.0000000   \n",
       "2   2 1636 1625 1045   986    1625      0             0.9932763  0.6430769   \n",
       "3   3  915  886  279   467     746    140             0.9683060  0.3148984   \n",
       "4   4  558  502   97   218     315    187             0.8996416  0.1932271   \n",
       "5   5  366  297   31   152     183    114             0.8114754  0.1043771   \n",
       "6   6  224  158   25    64      89     69             0.7053571  0.1582278   \n",
       "7   7  119   80    7    22      29     51             0.6722689  0.0875000   \n",
       "8   8   80   50    3    24      27     23             0.6250000  0.0600000   \n",
       "9   9   53   29    0    13      13     16             0.5471698  0.0000000   \n",
       "10 10   41   16    0     9       9      7             0.3902439  0.0000000   \n",
       "   Chain_1_in_NCF Chain_U_in_NCF Non.Chain_U_NCF_in_NCF\n",
       "1  1.0000000      1.0000000      0.0000000             \n",
       "2  0.6067692      1.0000000      0.0000000             \n",
       "3  0.5270880      0.8419865      0.1580135             \n",
       "4  0.4342629      0.6274900      0.3725100             \n",
       "5  0.5117845      0.6161616      0.3838384             \n",
       "6  0.4050633      0.5632911      0.4367089             \n",
       "7  0.2750000      0.3625000      0.6375000             \n",
       "8  0.4800000      0.5400000      0.4600000             \n",
       "9  0.4482759      0.4482759      0.5517241             \n",
       "10 0.5625000      0.5625000      0.4375000             "
      ]
     },
     "metadata": {},
     "output_type": "display_data"
    }
   ],
   "source": [
    "emp_num_frac"
   ]
  },
  {
   "cell_type": "code",
   "execution_count": 17,
   "id": "582dd913",
   "metadata": {},
   "outputs": [
    {
     "data": {
      "text/html": [
       "<table class=\"dataframe\">\n",
       "<caption>A data.frame: 10 × 6</caption>\n",
       "<thead>\n",
       "\t<tr><th scope=col>emp_num_frac.k</th><th scope=col>enrich_NCF_in_ALL</th><th scope=col>enrich_ChF_0_in_NCF</th><th scope=col>enrich_ChF_1_in_NCF</th><th scope=col>enrich_ChF_U_in_NCF</th><th scope=col>enrich_non_ChF_U_in_NCF</th></tr>\n",
       "\t<tr><th scope=col>&lt;int&gt;</th><th scope=col>&lt;dbl&gt;</th><th scope=col>&lt;dbl&gt;</th><th scope=col>&lt;dbl&gt;</th><th scope=col>&lt;dbl&gt;</th><th scope=col>&lt;dbl&gt;</th></tr>\n",
       "</thead>\n",
       "<tbody>\n",
       "\t<tr><td> 1</td><td>0</td><td>0.000000e+00</td><td>0.000000e+00</td><td>0.000000e+00</td><td>0.0000000</td></tr>\n",
       "\t<tr><td> 2</td><td>0</td><td>1.000000e+00</td><td>1.000000e+00</td><td>0.000000e+00</td><td>0.0000000</td></tr>\n",
       "\t<tr><td> 3</td><td>0</td><td>1.000000e+00</td><td>1.637133e-13</td><td>9.816280e-03</td><td>0.9875624</td></tr>\n",
       "\t<tr><td> 4</td><td>0</td><td>7.002022e-01</td><td>5.947638e-32</td><td>1.132946e-23</td><td>1.0000000</td></tr>\n",
       "\t<tr><td> 5</td><td>0</td><td>3.958435e-01</td><td>3.613773e-71</td><td>1.283721e-54</td><td>1.0000000</td></tr>\n",
       "\t<tr><td> 6</td><td>0</td><td>1.338856e-07</td><td>1.443035e-41</td><td>1.907781e-47</td><td>1.0000000</td></tr>\n",
       "\t<tr><td> 7</td><td>0</td><td>1.003278e-03</td><td>3.618702e-18</td><td>1.145337e-18</td><td>1.0000000</td></tr>\n",
       "\t<tr><td> 8</td><td>0</td><td>3.794602e-03</td><td>3.880123e-34</td><td>1.187190e-31</td><td>1.0000000</td></tr>\n",
       "\t<tr><td> 9</td><td>0</td><td>1.690416e-01</td><td>1.270637e-23</td><td>1.902899e-19</td><td>1.0000000</td></tr>\n",
       "\t<tr><td>10</td><td>0</td><td>4.972264e-02</td><td>8.388298e-22</td><td>8.441184e-19</td><td>1.0000000</td></tr>\n",
       "</tbody>\n",
       "</table>\n"
      ],
      "text/latex": [
       "A data.frame: 10 × 6\n",
       "\\begin{tabular}{llllll}\n",
       " emp\\_num\\_frac.k & enrich\\_NCF\\_in\\_ALL & enrich\\_ChF\\_0\\_in\\_NCF & enrich\\_ChF\\_1\\_in\\_NCF & enrich\\_ChF\\_U\\_in\\_NCF & enrich\\_non\\_ChF\\_U\\_in\\_NCF\\\\\n",
       " <int> & <dbl> & <dbl> & <dbl> & <dbl> & <dbl>\\\\\n",
       "\\hline\n",
       "\t  1 & 0 & 0.000000e+00 & 0.000000e+00 & 0.000000e+00 & 0.0000000\\\\\n",
       "\t  2 & 0 & 1.000000e+00 & 1.000000e+00 & 0.000000e+00 & 0.0000000\\\\\n",
       "\t  3 & 0 & 1.000000e+00 & 1.637133e-13 & 9.816280e-03 & 0.9875624\\\\\n",
       "\t  4 & 0 & 7.002022e-01 & 5.947638e-32 & 1.132946e-23 & 1.0000000\\\\\n",
       "\t  5 & 0 & 3.958435e-01 & 3.613773e-71 & 1.283721e-54 & 1.0000000\\\\\n",
       "\t  6 & 0 & 1.338856e-07 & 1.443035e-41 & 1.907781e-47 & 1.0000000\\\\\n",
       "\t  7 & 0 & 1.003278e-03 & 3.618702e-18 & 1.145337e-18 & 1.0000000\\\\\n",
       "\t  8 & 0 & 3.794602e-03 & 3.880123e-34 & 1.187190e-31 & 1.0000000\\\\\n",
       "\t  9 & 0 & 1.690416e-01 & 1.270637e-23 & 1.902899e-19 & 1.0000000\\\\\n",
       "\t 10 & 0 & 4.972264e-02 & 8.388298e-22 & 8.441184e-19 & 1.0000000\\\\\n",
       "\\end{tabular}\n"
      ],
      "text/markdown": [
       "\n",
       "A data.frame: 10 × 6\n",
       "\n",
       "| emp_num_frac.k &lt;int&gt; | enrich_NCF_in_ALL &lt;dbl&gt; | enrich_ChF_0_in_NCF &lt;dbl&gt; | enrich_ChF_1_in_NCF &lt;dbl&gt; | enrich_ChF_U_in_NCF &lt;dbl&gt; | enrich_non_ChF_U_in_NCF &lt;dbl&gt; |\n",
       "|---|---|---|---|---|---|\n",
       "|  1 | 0 | 0.000000e+00 | 0.000000e+00 | 0.000000e+00 | 0.0000000 |\n",
       "|  2 | 0 | 1.000000e+00 | 1.000000e+00 | 0.000000e+00 | 0.0000000 |\n",
       "|  3 | 0 | 1.000000e+00 | 1.637133e-13 | 9.816280e-03 | 0.9875624 |\n",
       "|  4 | 0 | 7.002022e-01 | 5.947638e-32 | 1.132946e-23 | 1.0000000 |\n",
       "|  5 | 0 | 3.958435e-01 | 3.613773e-71 | 1.283721e-54 | 1.0000000 |\n",
       "|  6 | 0 | 1.338856e-07 | 1.443035e-41 | 1.907781e-47 | 1.0000000 |\n",
       "|  7 | 0 | 1.003278e-03 | 3.618702e-18 | 1.145337e-18 | 1.0000000 |\n",
       "|  8 | 0 | 3.794602e-03 | 3.880123e-34 | 1.187190e-31 | 1.0000000 |\n",
       "|  9 | 0 | 1.690416e-01 | 1.270637e-23 | 1.902899e-19 | 1.0000000 |\n",
       "| 10 | 0 | 4.972264e-02 | 8.388298e-22 | 8.441184e-19 | 1.0000000 |\n",
       "\n"
      ],
      "text/plain": [
       "   emp_num_frac.k enrich_NCF_in_ALL enrich_ChF_0_in_NCF enrich_ChF_1_in_NCF\n",
       "1   1             0                 0.000000e+00        0.000000e+00       \n",
       "2   2             0                 1.000000e+00        1.000000e+00       \n",
       "3   3             0                 1.000000e+00        1.637133e-13       \n",
       "4   4             0                 7.002022e-01        5.947638e-32       \n",
       "5   5             0                 3.958435e-01        3.613773e-71       \n",
       "6   6             0                 1.338856e-07        1.443035e-41       \n",
       "7   7             0                 1.003278e-03        3.618702e-18       \n",
       "8   8             0                 3.794602e-03        3.880123e-34       \n",
       "9   9             0                 1.690416e-01        1.270637e-23       \n",
       "10 10             0                 4.972264e-02        8.388298e-22       \n",
       "   enrich_ChF_U_in_NCF enrich_non_ChF_U_in_NCF\n",
       "1  0.000000e+00        0.0000000              \n",
       "2  0.000000e+00        0.0000000              \n",
       "3  9.816280e-03        0.9875624              \n",
       "4  1.132946e-23        1.0000000              \n",
       "5  1.283721e-54        1.0000000              \n",
       "6  1.907781e-47        1.0000000              \n",
       "7  1.145337e-18        1.0000000              \n",
       "8  1.187190e-31        1.0000000              \n",
       "9  1.902899e-19        1.0000000              \n",
       "10 8.441184e-19        1.0000000              "
      ]
     },
     "metadata": {},
     "output_type": "display_data"
    }
   ],
   "source": [
    "# Make a dataframe of the results and save as a tsv file\n",
    "enrich_df <- data.frame (emp_num_frac$k, enrich_NCF_in_ALL, enrich_ChF_0_in_NCF, enrich_ChF_1_in_NCF, enrich_ChF_U_in_NCF, enrich_non_ChF_U_in_NCF)\n",
    "enrich_df"
   ]
  },
  {
   "cell_type": "code",
   "execution_count": 18,
   "id": "f2b38f39",
   "metadata": {},
   "outputs": [],
   "source": [
    "write.table(enrich_df, \"../output/stat_test_biodivine.txt\", row.names = FALSE, sep = '\\t')"
   ]
  },
  {
   "cell_type": "markdown",
   "id": "e9a54fd2",
   "metadata": {},
   "source": [
    "## MCBF dataset Statistical Tests (p-val for Relative Enrichment)"
   ]
  },
  {
   "cell_type": "code",
   "execution_count": 6,
   "id": "4be264dd",
   "metadata": {},
   "outputs": [],
   "source": [
    "emp_num_frac <-read.delim (\"../output/emp_num_frac_mcbf.tsv\", sep=\"\\t\")\n",
    "th_num_frac <- read.delim (\"../output/th_num_frac.tsv\", sep=\"\\t\")"
   ]
  },
  {
   "cell_type": "code",
   "execution_count": 7,
   "id": "7dfd75cd",
   "metadata": {},
   "outputs": [
    {
     "data": {
      "text/html": [
       "<table class=\"dataframe\">\n",
       "<caption>A data.frame: 10 × 12</caption>\n",
       "<thead>\n",
       "\t<tr><th scope=col>k</th><th scope=col>ALL</th><th scope=col>NCF</th><th scope=col>Chain</th><th scope=col>Chain_1</th><th scope=col>Chain_U</th><th scope=col>Non.Chain_U_NCF</th><th scope=col>NCF_in_all</th><th scope=col>Chain_in_NCF</th><th scope=col>Chain_1_in_NCF</th><th scope=col>Chain_U_in_NCF</th><th scope=col>Non.Chain_U_NCF_in_NCF</th></tr>\n",
       "\t<tr><th scope=col>&lt;int&gt;</th><th scope=col>&lt;int&gt;</th><th scope=col>&lt;int&gt;</th><th scope=col>&lt;int&gt;</th><th scope=col>&lt;int&gt;</th><th scope=col>&lt;int&gt;</th><th scope=col>&lt;int&gt;</th><th scope=col>&lt;dbl&gt;</th><th scope=col>&lt;dbl&gt;</th><th scope=col>&lt;dbl&gt;</th><th scope=col>&lt;dbl&gt;</th><th scope=col>&lt;dbl&gt;</th></tr>\n",
       "</thead>\n",
       "<tbody>\n",
       "\t<tr><td> 1</td><td>934</td><td>934</td><td>934</td><td>934</td><td>934</td><td> 0</td><td>1.0000000</td><td>1.00000000</td><td>1.0000000</td><td>1.0000000</td><td>0.0000000</td></tr>\n",
       "\t<tr><td> 2</td><td>687</td><td>671</td><td>392</td><td>503</td><td>671</td><td> 0</td><td>0.9767103</td><td>0.58420268</td><td>0.7496274</td><td>1.0000000</td><td>0.0000000</td></tr>\n",
       "\t<tr><td> 3</td><td>412</td><td>378</td><td>116</td><td>199</td><td>315</td><td>63</td><td>0.9174757</td><td>0.30687831</td><td>0.5264550</td><td>0.8333333</td><td>0.1666667</td></tr>\n",
       "\t<tr><td> 4</td><td>258</td><td>230</td><td> 31</td><td>124</td><td>155</td><td>75</td><td>0.8914729</td><td>0.13478261</td><td>0.5391304</td><td>0.6739130</td><td>0.3260870</td></tr>\n",
       "\t<tr><td> 5</td><td>156</td><td>120</td><td> 10</td><td> 63</td><td> 73</td><td>47</td><td>0.7692308</td><td>0.08333333</td><td>0.5250000</td><td>0.6083333</td><td>0.3916667</td></tr>\n",
       "\t<tr><td> 6</td><td>107</td><td> 67</td><td> 10</td><td> 26</td><td> 36</td><td>31</td><td>0.6261682</td><td>0.14925373</td><td>0.3880597</td><td>0.5373134</td><td>0.4626866</td></tr>\n",
       "\t<tr><td> 7</td><td> 51</td><td> 34</td><td>  4</td><td> 10</td><td> 14</td><td>20</td><td>0.6666667</td><td>0.11764706</td><td>0.2941176</td><td>0.4117647</td><td>0.5882353</td></tr>\n",
       "\t<tr><td> 8</td><td> 45</td><td> 27</td><td>  2</td><td>  9</td><td> 11</td><td>16</td><td>0.6000000</td><td>0.07407407</td><td>0.3333333</td><td>0.4074074</td><td>0.5925926</td></tr>\n",
       "\t<tr><td> 9</td><td> 19</td><td>  7</td><td>  0</td><td>  2</td><td>  2</td><td> 5</td><td>0.3684211</td><td>0.00000000</td><td>0.2857143</td><td>0.2857143</td><td>0.7142857</td></tr>\n",
       "\t<tr><td>10</td><td> 13</td><td>  3</td><td>  0</td><td>  1</td><td>  1</td><td> 2</td><td>0.2307692</td><td>0.00000000</td><td>0.3333333</td><td>0.3333333</td><td>0.6666667</td></tr>\n",
       "</tbody>\n",
       "</table>\n"
      ],
      "text/latex": [
       "A data.frame: 10 × 12\n",
       "\\begin{tabular}{llllllllllll}\n",
       " k & ALL & NCF & Chain & Chain\\_1 & Chain\\_U & Non.Chain\\_U\\_NCF & NCF\\_in\\_all & Chain\\_in\\_NCF & Chain\\_1\\_in\\_NCF & Chain\\_U\\_in\\_NCF & Non.Chain\\_U\\_NCF\\_in\\_NCF\\\\\n",
       " <int> & <int> & <int> & <int> & <int> & <int> & <int> & <dbl> & <dbl> & <dbl> & <dbl> & <dbl>\\\\\n",
       "\\hline\n",
       "\t  1 & 934 & 934 & 934 & 934 & 934 &  0 & 1.0000000 & 1.00000000 & 1.0000000 & 1.0000000 & 0.0000000\\\\\n",
       "\t  2 & 687 & 671 & 392 & 503 & 671 &  0 & 0.9767103 & 0.58420268 & 0.7496274 & 1.0000000 & 0.0000000\\\\\n",
       "\t  3 & 412 & 378 & 116 & 199 & 315 & 63 & 0.9174757 & 0.30687831 & 0.5264550 & 0.8333333 & 0.1666667\\\\\n",
       "\t  4 & 258 & 230 &  31 & 124 & 155 & 75 & 0.8914729 & 0.13478261 & 0.5391304 & 0.6739130 & 0.3260870\\\\\n",
       "\t  5 & 156 & 120 &  10 &  63 &  73 & 47 & 0.7692308 & 0.08333333 & 0.5250000 & 0.6083333 & 0.3916667\\\\\n",
       "\t  6 & 107 &  67 &  10 &  26 &  36 & 31 & 0.6261682 & 0.14925373 & 0.3880597 & 0.5373134 & 0.4626866\\\\\n",
       "\t  7 &  51 &  34 &   4 &  10 &  14 & 20 & 0.6666667 & 0.11764706 & 0.2941176 & 0.4117647 & 0.5882353\\\\\n",
       "\t  8 &  45 &  27 &   2 &   9 &  11 & 16 & 0.6000000 & 0.07407407 & 0.3333333 & 0.4074074 & 0.5925926\\\\\n",
       "\t  9 &  19 &   7 &   0 &   2 &   2 &  5 & 0.3684211 & 0.00000000 & 0.2857143 & 0.2857143 & 0.7142857\\\\\n",
       "\t 10 &  13 &   3 &   0 &   1 &   1 &  2 & 0.2307692 & 0.00000000 & 0.3333333 & 0.3333333 & 0.6666667\\\\\n",
       "\\end{tabular}\n"
      ],
      "text/markdown": [
       "\n",
       "A data.frame: 10 × 12\n",
       "\n",
       "| k &lt;int&gt; | ALL &lt;int&gt; | NCF &lt;int&gt; | Chain &lt;int&gt; | Chain_1 &lt;int&gt; | Chain_U &lt;int&gt; | Non.Chain_U_NCF &lt;int&gt; | NCF_in_all &lt;dbl&gt; | Chain_in_NCF &lt;dbl&gt; | Chain_1_in_NCF &lt;dbl&gt; | Chain_U_in_NCF &lt;dbl&gt; | Non.Chain_U_NCF_in_NCF &lt;dbl&gt; |\n",
       "|---|---|---|---|---|---|---|---|---|---|---|---|\n",
       "|  1 | 934 | 934 | 934 | 934 | 934 |  0 | 1.0000000 | 1.00000000 | 1.0000000 | 1.0000000 | 0.0000000 |\n",
       "|  2 | 687 | 671 | 392 | 503 | 671 |  0 | 0.9767103 | 0.58420268 | 0.7496274 | 1.0000000 | 0.0000000 |\n",
       "|  3 | 412 | 378 | 116 | 199 | 315 | 63 | 0.9174757 | 0.30687831 | 0.5264550 | 0.8333333 | 0.1666667 |\n",
       "|  4 | 258 | 230 |  31 | 124 | 155 | 75 | 0.8914729 | 0.13478261 | 0.5391304 | 0.6739130 | 0.3260870 |\n",
       "|  5 | 156 | 120 |  10 |  63 |  73 | 47 | 0.7692308 | 0.08333333 | 0.5250000 | 0.6083333 | 0.3916667 |\n",
       "|  6 | 107 |  67 |  10 |  26 |  36 | 31 | 0.6261682 | 0.14925373 | 0.3880597 | 0.5373134 | 0.4626866 |\n",
       "|  7 |  51 |  34 |   4 |  10 |  14 | 20 | 0.6666667 | 0.11764706 | 0.2941176 | 0.4117647 | 0.5882353 |\n",
       "|  8 |  45 |  27 |   2 |   9 |  11 | 16 | 0.6000000 | 0.07407407 | 0.3333333 | 0.4074074 | 0.5925926 |\n",
       "|  9 |  19 |   7 |   0 |   2 |   2 |  5 | 0.3684211 | 0.00000000 | 0.2857143 | 0.2857143 | 0.7142857 |\n",
       "| 10 |  13 |   3 |   0 |   1 |   1 |  2 | 0.2307692 | 0.00000000 | 0.3333333 | 0.3333333 | 0.6666667 |\n",
       "\n"
      ],
      "text/plain": [
       "   k  ALL NCF Chain Chain_1 Chain_U Non.Chain_U_NCF NCF_in_all Chain_in_NCF\n",
       "1   1 934 934 934   934     934      0              1.0000000  1.00000000  \n",
       "2   2 687 671 392   503     671      0              0.9767103  0.58420268  \n",
       "3   3 412 378 116   199     315     63              0.9174757  0.30687831  \n",
       "4   4 258 230  31   124     155     75              0.8914729  0.13478261  \n",
       "5   5 156 120  10    63      73     47              0.7692308  0.08333333  \n",
       "6   6 107  67  10    26      36     31              0.6261682  0.14925373  \n",
       "7   7  51  34   4    10      14     20              0.6666667  0.11764706  \n",
       "8   8  45  27   2     9      11     16              0.6000000  0.07407407  \n",
       "9   9  19   7   0     2       2      5              0.3684211  0.00000000  \n",
       "10 10  13   3   0     1       1      2              0.2307692  0.00000000  \n",
       "   Chain_1_in_NCF Chain_U_in_NCF Non.Chain_U_NCF_in_NCF\n",
       "1  1.0000000      1.0000000      0.0000000             \n",
       "2  0.7496274      1.0000000      0.0000000             \n",
       "3  0.5264550      0.8333333      0.1666667             \n",
       "4  0.5391304      0.6739130      0.3260870             \n",
       "5  0.5250000      0.6083333      0.3916667             \n",
       "6  0.3880597      0.5373134      0.4626866             \n",
       "7  0.2941176      0.4117647      0.5882353             \n",
       "8  0.3333333      0.4074074      0.5925926             \n",
       "9  0.2857143      0.2857143      0.7142857             \n",
       "10 0.3333333      0.3333333      0.6666667             "
      ]
     },
     "metadata": {},
     "output_type": "display_data"
    }
   ],
   "source": [
    "emp_num_frac"
   ]
  },
  {
   "cell_type": "code",
   "execution_count": 21,
   "id": "9f59a3bc",
   "metadata": {},
   "outputs": [
    {
     "name": "stdout",
     "output_type": "stream",
     "text": [
      "[1] \"Enrichment of the NCFs functions within ALL BFs\"\n",
      "[1] \"--------------------------------------------------\"\n",
      " [1]  0.000000e+00 3.742566e-177 3.091290e-184  0.000000e+00  0.000000e+00\n",
      " [6]  0.000000e+00  0.000000e+00  0.000000e+00  0.000000e+00  0.000000e+00\n"
     ]
    }
   ],
   "source": [
    "# Test 1: Enrichment of NCFs within ALL BFs:\n",
    "enrich_NCF_in_ALL <- c()\n",
    "for (k in emp_num_frac$k){\n",
    "    th_NCF_k <- th_num_frac$NCF[k]\n",
    "    th_ALL_k <- th_num_frac$ALL[k]\n",
    "    emp_NCF_k <- emp_num_frac$NCF[k]\n",
    "    emp_ALL_k <- emp_num_frac$ALL[k]\n",
    "    pval_NCF_ALL_k <- pbinom(emp_NCF_k, emp_ALL_k, prob=th_NCF_k/th_ALL_k, lower.tail=FALSE)\n",
    "    enrich_NCF_in_ALL <- c(enrich_NCF_in_ALL, pval_NCF_ALL_k)\n",
    "}\n",
    "print ('Enrichment of the NCFs functions within ALL BFs')\n",
    "print ('--------------------------------------------------')\n",
    "print (enrich_NCF_in_ALL)"
   ]
  },
  {
   "cell_type": "code",
   "execution_count": 22,
   "id": "0cc59293",
   "metadata": {},
   "outputs": [
    {
     "name": "stdout",
     "output_type": "stream",
     "text": [
      "[1] \"Enrichment of the Chain-0 functions within the NCFs\"\n",
      "[1] \"---------------------------------------------------\"\n",
      " [1] 0.0000000000 1.0000000000 0.9999596539 0.9956146284 0.6876707659\n",
      " [6] 0.0005429588 0.0016073595 0.0048015049 0.0437133402 0.0095171804\n",
      "[1] \"\"\n",
      "[1] \"Enrichment of the Chain-1 functions within the NCFs\"\n",
      "[1] \"---------------------------------------------------\"\n",
      " [1] 0.000000e+00 4.940752e-01 9.538750e-07 8.778778e-30 6.462094e-32\n",
      " [6] 6.696612e-18 4.847673e-10 7.737124e-13 8.854399e-06 3.032066e-05\n",
      "[1] \"\"\n",
      "[1] \"Enrichment of the Chain-U functions within the NCFs\"\n",
      "[1] \"---------------------------------------------------\"\n",
      " [1] 0.000000e+00 0.000000e+00 1.341212e-01 1.086963e-16 8.961554e-23\n",
      " [6] 8.582203e-20 2.944723e-11 9.030229e-13 6.948779e-05 1.210248e-04\n",
      "[1] \"Enrichment of the Non-Chain-U functions within the NCFs\"\n",
      "[1] \"---------------------------------------------------\"\n",
      " [1] 0.0000000 0.0000000 0.8343070 1.0000000 1.0000000 1.0000000 1.0000000\n",
      " [8] 1.0000000 0.9967385 0.9810262\n"
     ]
    }
   ],
   "source": [
    "# Test 2: relative enrichment of Chain functions within NCFs:\n",
    "enrich_ChF_0_in_NCF <- c()\n",
    "enrich_ChF_1_in_NCF <- c()\n",
    "enrich_ChF_U_in_NCF <- c()\n",
    "enrich_non_ChF_U_in_NCF <- c()\n",
    "\n",
    "# Compute enrichments for Chain 0 functions:\n",
    "for (k in emp_num_frac$k){\n",
    "    th_ChF_0_k <- th_num_frac$Chain[k]\n",
    "    th_NCF_k <- th_num_frac$NCF[k]\n",
    "    emp_ChF_0_k <- emp_num_frac$Chain[k]\n",
    "    emp_NCF_k <- emp_num_frac$NCF[k]\n",
    "    pval_ChF_0_NCF_k <- pbinom(emp_ChF_0_k, emp_NCF_k, prob=th_ChF_0_k/th_NCF_k, lower.tail=FALSE)\n",
    "    enrich_ChF_0_in_NCF <- c(enrich_ChF_0_in_NCF, pval_ChF_0_NCF_k)\n",
    "}\n",
    "print ('Enrichment of the Chain-0 functions within the NCFs')\n",
    "print ('---------------------------------------------------')\n",
    "print (enrich_ChF_0_in_NCF)\n",
    "print ('')\n",
    "\n",
    "# Compute enrichments for Chain 1 functions:\n",
    "for (k in emp_num_frac$k){\n",
    "    th_ChF_1_k <- th_num_frac$Chain_1[k]\n",
    "    th_NCF_k <- th_num_frac$NCF[k]\n",
    "    emp_ChF_1_k <- emp_num_frac$Chain_1[k]\n",
    "    emp_NCF_k <- emp_num_frac$NCF[k]\n",
    "    pval_ChF_1_NCF_k <- pbinom(emp_ChF_1_k, emp_NCF_k, prob=th_ChF_1_k/th_NCF_k, lower.tail=FALSE)\n",
    "    enrich_ChF_1_in_NCF <- c(enrich_ChF_1_in_NCF, pval_ChF_1_NCF_k)\n",
    "}\n",
    "\n",
    "print ('Enrichment of the Chain-1 functions within the NCFs')\n",
    "print ('---------------------------------------------------')\n",
    "print (enrich_ChF_1_in_NCF)\n",
    "print ('')\n",
    "\n",
    "# Compute enrichments for Chain U functions:\n",
    "for (k in emp_num_frac$k){\n",
    "    th_ChF_U_k <- th_num_frac$Chain_U[k]\n",
    "    th_NCF_k <- th_num_frac$NCF[k]\n",
    "    emp_ChF_U_k <- emp_num_frac$Chain_U[k]\n",
    "    emp_NCF_k <- emp_num_frac$NCF[k]\n",
    "    pval_ChF_U_NCF_k <- pbinom(emp_ChF_U_k, emp_NCF_k, prob=th_ChF_U_k/th_NCF_k, lower.tail=FALSE)\n",
    "    enrich_ChF_U_in_NCF <- c(enrich_ChF_U_in_NCF, pval_ChF_U_NCF_k)\n",
    "}\n",
    "\n",
    "print ('Enrichment of the Chain-U functions within the NCFs')\n",
    "print ('---------------------------------------------------')\n",
    "print (enrich_ChF_U_in_NCF)\n",
    "\n",
    "#-------------------------------------------------------------------------------------------------------------------------------\n",
    "# Compute enrichments for Non-Chain-U functions:\n",
    "for (k in emp_num_frac$k){\n",
    "    th_non_ChF_U_k <- th_num_frac$Non.Chain_U_NCF[k]\n",
    "    th_NCF_k <- th_num_frac$NCF[k]\n",
    "    emp_non_ChF_U_k <- emp_num_frac$Non.Chain_U_NCF[k]\n",
    "    emp_NCF_k <- emp_num_frac$NCF[k]\n",
    "    pval_non_ChF_U_NCF_k <- pbinom(emp_non_ChF_U_k, emp_NCF_k, prob=th_non_ChF_U_k/th_NCF_k, lower.tail=FALSE)\n",
    "    enrich_non_ChF_U_in_NCF <- c(enrich_non_ChF_U_in_NCF, pval_non_ChF_U_NCF_k)\n",
    "}\n",
    "\n",
    "print ('Enrichment of the Non-Chain-U functions within the NCFs')\n",
    "print ('---------------------------------------------------')\n",
    "print (enrich_non_ChF_U_in_NCF)"
   ]
  },
  {
   "cell_type": "code",
   "execution_count": 23,
   "id": "3b26403e",
   "metadata": {},
   "outputs": [
    {
     "data": {
      "text/html": [
       "<table class=\"dataframe\">\n",
       "<caption>A data.frame: 10 × 6</caption>\n",
       "<thead>\n",
       "\t<tr><th scope=col>emp_num_frac.k</th><th scope=col>enrich_NCF_in_ALL</th><th scope=col>enrich_ChF_0_in_NCF</th><th scope=col>enrich_ChF_1_in_NCF</th><th scope=col>enrich_ChF_U_in_NCF</th><th scope=col>enrich_non_ChF_U_in_NCF</th></tr>\n",
       "\t<tr><th scope=col>&lt;int&gt;</th><th scope=col>&lt;dbl&gt;</th><th scope=col>&lt;dbl&gt;</th><th scope=col>&lt;dbl&gt;</th><th scope=col>&lt;dbl&gt;</th><th scope=col>&lt;dbl&gt;</th></tr>\n",
       "</thead>\n",
       "<tbody>\n",
       "\t<tr><td> 1</td><td> 0.000000e+00</td><td>0.0000000000</td><td>0.000000e+00</td><td>0.000000e+00</td><td>0.0000000</td></tr>\n",
       "\t<tr><td> 2</td><td>3.742566e-177</td><td>1.0000000000</td><td>4.940752e-01</td><td>0.000000e+00</td><td>0.0000000</td></tr>\n",
       "\t<tr><td> 3</td><td>3.091290e-184</td><td>0.9999596539</td><td>9.538750e-07</td><td>1.341212e-01</td><td>0.8343070</td></tr>\n",
       "\t<tr><td> 4</td><td> 0.000000e+00</td><td>0.9956146284</td><td>8.778778e-30</td><td>1.086963e-16</td><td>1.0000000</td></tr>\n",
       "\t<tr><td> 5</td><td> 0.000000e+00</td><td>0.6876707659</td><td>6.462094e-32</td><td>8.961554e-23</td><td>1.0000000</td></tr>\n",
       "\t<tr><td> 6</td><td> 0.000000e+00</td><td>0.0005429588</td><td>6.696612e-18</td><td>8.582203e-20</td><td>1.0000000</td></tr>\n",
       "\t<tr><td> 7</td><td> 0.000000e+00</td><td>0.0016073595</td><td>4.847673e-10</td><td>2.944723e-11</td><td>1.0000000</td></tr>\n",
       "\t<tr><td> 8</td><td> 0.000000e+00</td><td>0.0048015049</td><td>7.737124e-13</td><td>9.030229e-13</td><td>1.0000000</td></tr>\n",
       "\t<tr><td> 9</td><td> 0.000000e+00</td><td>0.0437133402</td><td>8.854399e-06</td><td>6.948779e-05</td><td>0.9967385</td></tr>\n",
       "\t<tr><td>10</td><td> 0.000000e+00</td><td>0.0095171804</td><td>3.032066e-05</td><td>1.210248e-04</td><td>0.9810262</td></tr>\n",
       "</tbody>\n",
       "</table>\n"
      ],
      "text/latex": [
       "A data.frame: 10 × 6\n",
       "\\begin{tabular}{llllll}\n",
       " emp\\_num\\_frac.k & enrich\\_NCF\\_in\\_ALL & enrich\\_ChF\\_0\\_in\\_NCF & enrich\\_ChF\\_1\\_in\\_NCF & enrich\\_ChF\\_U\\_in\\_NCF & enrich\\_non\\_ChF\\_U\\_in\\_NCF\\\\\n",
       " <int> & <dbl> & <dbl> & <dbl> & <dbl> & <dbl>\\\\\n",
       "\\hline\n",
       "\t  1 &  0.000000e+00 & 0.0000000000 & 0.000000e+00 & 0.000000e+00 & 0.0000000\\\\\n",
       "\t  2 & 3.742566e-177 & 1.0000000000 & 4.940752e-01 & 0.000000e+00 & 0.0000000\\\\\n",
       "\t  3 & 3.091290e-184 & 0.9999596539 & 9.538750e-07 & 1.341212e-01 & 0.8343070\\\\\n",
       "\t  4 &  0.000000e+00 & 0.9956146284 & 8.778778e-30 & 1.086963e-16 & 1.0000000\\\\\n",
       "\t  5 &  0.000000e+00 & 0.6876707659 & 6.462094e-32 & 8.961554e-23 & 1.0000000\\\\\n",
       "\t  6 &  0.000000e+00 & 0.0005429588 & 6.696612e-18 & 8.582203e-20 & 1.0000000\\\\\n",
       "\t  7 &  0.000000e+00 & 0.0016073595 & 4.847673e-10 & 2.944723e-11 & 1.0000000\\\\\n",
       "\t  8 &  0.000000e+00 & 0.0048015049 & 7.737124e-13 & 9.030229e-13 & 1.0000000\\\\\n",
       "\t  9 &  0.000000e+00 & 0.0437133402 & 8.854399e-06 & 6.948779e-05 & 0.9967385\\\\\n",
       "\t 10 &  0.000000e+00 & 0.0095171804 & 3.032066e-05 & 1.210248e-04 & 0.9810262\\\\\n",
       "\\end{tabular}\n"
      ],
      "text/markdown": [
       "\n",
       "A data.frame: 10 × 6\n",
       "\n",
       "| emp_num_frac.k &lt;int&gt; | enrich_NCF_in_ALL &lt;dbl&gt; | enrich_ChF_0_in_NCF &lt;dbl&gt; | enrich_ChF_1_in_NCF &lt;dbl&gt; | enrich_ChF_U_in_NCF &lt;dbl&gt; | enrich_non_ChF_U_in_NCF &lt;dbl&gt; |\n",
       "|---|---|---|---|---|---|\n",
       "|  1 |  0.000000e+00 | 0.0000000000 | 0.000000e+00 | 0.000000e+00 | 0.0000000 |\n",
       "|  2 | 3.742566e-177 | 1.0000000000 | 4.940752e-01 | 0.000000e+00 | 0.0000000 |\n",
       "|  3 | 3.091290e-184 | 0.9999596539 | 9.538750e-07 | 1.341212e-01 | 0.8343070 |\n",
       "|  4 |  0.000000e+00 | 0.9956146284 | 8.778778e-30 | 1.086963e-16 | 1.0000000 |\n",
       "|  5 |  0.000000e+00 | 0.6876707659 | 6.462094e-32 | 8.961554e-23 | 1.0000000 |\n",
       "|  6 |  0.000000e+00 | 0.0005429588 | 6.696612e-18 | 8.582203e-20 | 1.0000000 |\n",
       "|  7 |  0.000000e+00 | 0.0016073595 | 4.847673e-10 | 2.944723e-11 | 1.0000000 |\n",
       "|  8 |  0.000000e+00 | 0.0048015049 | 7.737124e-13 | 9.030229e-13 | 1.0000000 |\n",
       "|  9 |  0.000000e+00 | 0.0437133402 | 8.854399e-06 | 6.948779e-05 | 0.9967385 |\n",
       "| 10 |  0.000000e+00 | 0.0095171804 | 3.032066e-05 | 1.210248e-04 | 0.9810262 |\n",
       "\n"
      ],
      "text/plain": [
       "   emp_num_frac.k enrich_NCF_in_ALL enrich_ChF_0_in_NCF enrich_ChF_1_in_NCF\n",
       "1   1              0.000000e+00     0.0000000000        0.000000e+00       \n",
       "2   2             3.742566e-177     1.0000000000        4.940752e-01       \n",
       "3   3             3.091290e-184     0.9999596539        9.538750e-07       \n",
       "4   4              0.000000e+00     0.9956146284        8.778778e-30       \n",
       "5   5              0.000000e+00     0.6876707659        6.462094e-32       \n",
       "6   6              0.000000e+00     0.0005429588        6.696612e-18       \n",
       "7   7              0.000000e+00     0.0016073595        4.847673e-10       \n",
       "8   8              0.000000e+00     0.0048015049        7.737124e-13       \n",
       "9   9              0.000000e+00     0.0437133402        8.854399e-06       \n",
       "10 10              0.000000e+00     0.0095171804        3.032066e-05       \n",
       "   enrich_ChF_U_in_NCF enrich_non_ChF_U_in_NCF\n",
       "1  0.000000e+00        0.0000000              \n",
       "2  0.000000e+00        0.0000000              \n",
       "3  1.341212e-01        0.8343070              \n",
       "4  1.086963e-16        1.0000000              \n",
       "5  8.961554e-23        1.0000000              \n",
       "6  8.582203e-20        1.0000000              \n",
       "7  2.944723e-11        1.0000000              \n",
       "8  9.030229e-13        1.0000000              \n",
       "9  6.948779e-05        0.9967385              \n",
       "10 1.210248e-04        0.9810262              "
      ]
     },
     "metadata": {},
     "output_type": "display_data"
    }
   ],
   "source": [
    "# Make a dataframe of the results and save as a tsv file\n",
    "enrich_df <- data.frame (emp_num_frac$k, enrich_NCF_in_ALL, enrich_ChF_0_in_NCF, enrich_ChF_1_in_NCF, enrich_ChF_U_in_NCF, enrich_non_ChF_U_in_NCF)\n",
    "enrich_df"
   ]
  },
  {
   "cell_type": "code",
   "execution_count": 24,
   "id": "25dca878",
   "metadata": {},
   "outputs": [],
   "source": [
    "write.table(enrich_df, \"../output/stat_test_mcbf_test.txt\", row.names = FALSE, sep='\\t')"
   ]
  },
  {
   "cell_type": "markdown",
   "id": "5e65daf3",
   "metadata": {},
   "source": [
    "## Harris data Statistical Tests (p-val for Relative Enrichment)"
   ]
  },
  {
   "cell_type": "code",
   "execution_count": 2,
   "id": "1a5a2c04",
   "metadata": {},
   "outputs": [],
   "source": [
    "emp_num_frac <-read.delim (\"../output/emp_num_frac_Harris.tsv\", sep=\"\\t\")\n",
    "th_num_frac <- read.delim (\"../output/th_num_frac.tsv\", sep=\"\\t\")"
   ]
  },
  {
   "cell_type": "code",
   "execution_count": 5,
   "id": "e056bb93",
   "metadata": {
    "scrolled": false
   },
   "outputs": [
    {
     "data": {
      "text/html": [
       "<table class=\"dataframe\">\n",
       "<caption>A data.frame: 10 × 12</caption>\n",
       "<thead>\n",
       "\t<tr><th scope=col>k</th><th scope=col>NCF</th><th scope=col>Chain</th><th scope=col>Chain_1</th><th scope=col>Chain_U</th><th scope=col>Non.Chain_U_NCF</th><th scope=col>Chain_in_NCF</th><th scope=col>Chain_1_in_NCF</th><th scope=col>Chain_U_in_NCF</th><th scope=col>Non.Chain_U_NCF_in_NCF</th><th scope=col>ALL</th><th scope=col>NCF_in_all</th></tr>\n",
       "\t<tr><th scope=col>&lt;int&gt;</th><th scope=col>&lt;dbl&gt;</th><th scope=col>&lt;int&gt;</th><th scope=col>&lt;int&gt;</th><th scope=col>&lt;int&gt;</th><th scope=col>&lt;dbl&gt;</th><th scope=col>&lt;dbl&gt;</th><th scope=col>&lt;dbl&gt;</th><th scope=col>&lt;dbl&gt;</th><th scope=col>&lt;dbl&gt;</th><th scope=col>&lt;dbl&gt;</th><th scope=col>&lt;dbl&gt;</th></tr>\n",
       "</thead>\n",
       "<tbody>\n",
       "\t<tr><td> 1</td><td>          2</td><td>        2</td><td>        2</td><td>        2</td><td>          0</td><td>1.000000000</td><td>1.000000000</td><td>1.000000000</td><td>0.0000000</td><td> 4.000000e+00</td><td> 5.000000e-01</td></tr>\n",
       "\t<tr><td> 2</td><td>          8</td><td>        6</td><td>        6</td><td>        8</td><td>          0</td><td>0.750000000</td><td>0.750000000</td><td>1.000000000</td><td>0.0000000</td><td> 1.600000e+01</td><td> 5.000000e-01</td></tr>\n",
       "\t<tr><td> 3</td><td>         64</td><td>       26</td><td>       26</td><td>       52</td><td>         12</td><td>0.406250000</td><td>0.406250000</td><td>0.812500000</td><td>0.1875000</td><td> 2.560000e+02</td><td> 2.500000e-01</td></tr>\n",
       "\t<tr><td> 4</td><td>        736</td><td>      150</td><td>      150</td><td>      300</td><td>        436</td><td>0.203804348</td><td>0.203804348</td><td>0.407608696</td><td>0.5923913</td><td> 6.553600e+04</td><td> 1.123047e-02</td></tr>\n",
       "\t<tr><td> 5</td><td>      10624</td><td>     1082</td><td>     1082</td><td>     2164</td><td>       8460</td><td>0.101844880</td><td>0.101844880</td><td>0.203689759</td><td>0.7963102</td><td> 4.294967e+09</td><td> 2.473593e-06</td></tr>\n",
       "\t<tr><td> 6</td><td>     183936</td><td>     9366</td><td>     9366</td><td>    18732</td><td>     165204</td><td>0.050919885</td><td>0.050919885</td><td>0.101839770</td><td>0.8981602</td><td> 1.844674e+19</td><td> 9.971191e-15</td></tr>\n",
       "\t<tr><td> 7</td><td>    3715072</td><td>    94586</td><td>    94586</td><td>   189172</td><td>    3525900</td><td>0.025460072</td><td>0.025460072</td><td>0.050920144</td><td>0.9490799</td><td> 3.402824e+38</td><td> 1.091762e-32</td></tr>\n",
       "\t<tr><td> 8</td><td>   85755372</td><td>  1091670</td><td>  1091670</td><td>  2183340</td><td>   83572032</td><td>0.012730048</td><td>0.012730048</td><td>0.025460096</td><td>0.9745399</td><td> 1.157921e+77</td><td> 7.405978e-70</td></tr>\n",
       "\t<tr><td> 9</td><td> 2226939904</td><td> 14174522</td><td> 14174522</td><td> 28349044</td><td> 2198590860</td><td>0.006365022</td><td>0.006365022</td><td>0.012730044</td><td>0.9872700</td><td>1.340781e+154</td><td>1.660928e-145</td></tr>\n",
       "\t<tr><td>10</td><td>64255903744</td><td>204495126</td><td>204495126</td><td>408990252</td><td>63846913492</td><td>0.003182511</td><td>0.003182511</td><td>0.006365022</td><td>0.9936350</td><td>          Inf</td><td>3.574353e-298</td></tr>\n",
       "</tbody>\n",
       "</table>\n"
      ],
      "text/latex": [
       "A data.frame: 10 × 12\n",
       "\\begin{tabular}{llllllllllll}\n",
       " k & NCF & Chain & Chain\\_1 & Chain\\_U & Non.Chain\\_U\\_NCF & Chain\\_in\\_NCF & Chain\\_1\\_in\\_NCF & Chain\\_U\\_in\\_NCF & Non.Chain\\_U\\_NCF\\_in\\_NCF & ALL & NCF\\_in\\_all\\\\\n",
       " <int> & <dbl> & <int> & <int> & <int> & <dbl> & <dbl> & <dbl> & <dbl> & <dbl> & <dbl> & <dbl>\\\\\n",
       "\\hline\n",
       "\t  1 &           2 &         2 &         2 &         2 &           0 & 1.000000000 & 1.000000000 & 1.000000000 & 0.0000000 &  4.000000e+00 &  5.000000e-01\\\\\n",
       "\t  2 &           8 &         6 &         6 &         8 &           0 & 0.750000000 & 0.750000000 & 1.000000000 & 0.0000000 &  1.600000e+01 &  5.000000e-01\\\\\n",
       "\t  3 &          64 &        26 &        26 &        52 &          12 & 0.406250000 & 0.406250000 & 0.812500000 & 0.1875000 &  2.560000e+02 &  2.500000e-01\\\\\n",
       "\t  4 &         736 &       150 &       150 &       300 &         436 & 0.203804348 & 0.203804348 & 0.407608696 & 0.5923913 &  6.553600e+04 &  1.123047e-02\\\\\n",
       "\t  5 &       10624 &      1082 &      1082 &      2164 &        8460 & 0.101844880 & 0.101844880 & 0.203689759 & 0.7963102 &  4.294967e+09 &  2.473593e-06\\\\\n",
       "\t  6 &      183936 &      9366 &      9366 &     18732 &      165204 & 0.050919885 & 0.050919885 & 0.101839770 & 0.8981602 &  1.844674e+19 &  9.971191e-15\\\\\n",
       "\t  7 &     3715072 &     94586 &     94586 &    189172 &     3525900 & 0.025460072 & 0.025460072 & 0.050920144 & 0.9490799 &  3.402824e+38 &  1.091762e-32\\\\\n",
       "\t  8 &    85755372 &   1091670 &   1091670 &   2183340 &    83572032 & 0.012730048 & 0.012730048 & 0.025460096 & 0.9745399 &  1.157921e+77 &  7.405978e-70\\\\\n",
       "\t  9 &  2226939904 &  14174522 &  14174522 &  28349044 &  2198590860 & 0.006365022 & 0.006365022 & 0.012730044 & 0.9872700 & 1.340781e+154 & 1.660928e-145\\\\\n",
       "\t 10 & 64255903744 & 204495126 & 204495126 & 408990252 & 63846913492 & 0.003182511 & 0.003182511 & 0.006365022 & 0.9936350 &           Inf & 3.574353e-298\\\\\n",
       "\\end{tabular}\n"
      ],
      "text/markdown": [
       "\n",
       "A data.frame: 10 × 12\n",
       "\n",
       "| k &lt;int&gt; | NCF &lt;dbl&gt; | Chain &lt;int&gt; | Chain_1 &lt;int&gt; | Chain_U &lt;int&gt; | Non.Chain_U_NCF &lt;dbl&gt; | Chain_in_NCF &lt;dbl&gt; | Chain_1_in_NCF &lt;dbl&gt; | Chain_U_in_NCF &lt;dbl&gt; | Non.Chain_U_NCF_in_NCF &lt;dbl&gt; | ALL &lt;dbl&gt; | NCF_in_all &lt;dbl&gt; |\n",
       "|---|---|---|---|---|---|---|---|---|---|---|---|\n",
       "|  1 |           2 |         2 |         2 |         2 |           0 | 1.000000000 | 1.000000000 | 1.000000000 | 0.0000000 |  4.000000e+00 |  5.000000e-01 |\n",
       "|  2 |           8 |         6 |         6 |         8 |           0 | 0.750000000 | 0.750000000 | 1.000000000 | 0.0000000 |  1.600000e+01 |  5.000000e-01 |\n",
       "|  3 |          64 |        26 |        26 |        52 |          12 | 0.406250000 | 0.406250000 | 0.812500000 | 0.1875000 |  2.560000e+02 |  2.500000e-01 |\n",
       "|  4 |         736 |       150 |       150 |       300 |         436 | 0.203804348 | 0.203804348 | 0.407608696 | 0.5923913 |  6.553600e+04 |  1.123047e-02 |\n",
       "|  5 |       10624 |      1082 |      1082 |      2164 |        8460 | 0.101844880 | 0.101844880 | 0.203689759 | 0.7963102 |  4.294967e+09 |  2.473593e-06 |\n",
       "|  6 |      183936 |      9366 |      9366 |     18732 |      165204 | 0.050919885 | 0.050919885 | 0.101839770 | 0.8981602 |  1.844674e+19 |  9.971191e-15 |\n",
       "|  7 |     3715072 |     94586 |     94586 |    189172 |     3525900 | 0.025460072 | 0.025460072 | 0.050920144 | 0.9490799 |  3.402824e+38 |  1.091762e-32 |\n",
       "|  8 |    85755372 |   1091670 |   1091670 |   2183340 |    83572032 | 0.012730048 | 0.012730048 | 0.025460096 | 0.9745399 |  1.157921e+77 |  7.405978e-70 |\n",
       "|  9 |  2226939904 |  14174522 |  14174522 |  28349044 |  2198590860 | 0.006365022 | 0.006365022 | 0.012730044 | 0.9872700 | 1.340781e+154 | 1.660928e-145 |\n",
       "| 10 | 64255903744 | 204495126 | 204495126 | 408990252 | 63846913492 | 0.003182511 | 0.003182511 | 0.006365022 | 0.9936350 |           Inf | 3.574353e-298 |\n",
       "\n"
      ],
      "text/plain": [
       "   k  NCF         Chain     Chain_1   Chain_U   Non.Chain_U_NCF Chain_in_NCF\n",
       "1   1           2         2         2         2           0     1.000000000 \n",
       "2   2           8         6         6         8           0     0.750000000 \n",
       "3   3          64        26        26        52          12     0.406250000 \n",
       "4   4         736       150       150       300         436     0.203804348 \n",
       "5   5       10624      1082      1082      2164        8460     0.101844880 \n",
       "6   6      183936      9366      9366     18732      165204     0.050919885 \n",
       "7   7     3715072     94586     94586    189172     3525900     0.025460072 \n",
       "8   8    85755372   1091670   1091670   2183340    83572032     0.012730048 \n",
       "9   9  2226939904  14174522  14174522  28349044  2198590860     0.006365022 \n",
       "10 10 64255903744 204495126 204495126 408990252 63846913492     0.003182511 \n",
       "   Chain_1_in_NCF Chain_U_in_NCF Non.Chain_U_NCF_in_NCF ALL          \n",
       "1  1.000000000    1.000000000    0.0000000               4.000000e+00\n",
       "2  0.750000000    1.000000000    0.0000000               1.600000e+01\n",
       "3  0.406250000    0.812500000    0.1875000               2.560000e+02\n",
       "4  0.203804348    0.407608696    0.5923913               6.553600e+04\n",
       "5  0.101844880    0.203689759    0.7963102               4.294967e+09\n",
       "6  0.050919885    0.101839770    0.8981602               1.844674e+19\n",
       "7  0.025460072    0.050920144    0.9490799               3.402824e+38\n",
       "8  0.012730048    0.025460096    0.9745399               1.157921e+77\n",
       "9  0.006365022    0.012730044    0.9872700              1.340781e+154\n",
       "10 0.003182511    0.006365022    0.9936350                        Inf\n",
       "   NCF_in_all   \n",
       "1   5.000000e-01\n",
       "2   5.000000e-01\n",
       "3   2.500000e-01\n",
       "4   1.123047e-02\n",
       "5   2.473593e-06\n",
       "6   9.971191e-15\n",
       "7   1.091762e-32\n",
       "8   7.405978e-70\n",
       "9  1.660928e-145\n",
       "10 3.574353e-298"
      ]
     },
     "metadata": {},
     "output_type": "display_data"
    }
   ],
   "source": [
    "th_num_frac"
   ]
  },
  {
   "cell_type": "code",
   "execution_count": 3,
   "id": "a0768784",
   "metadata": {},
   "outputs": [
    {
     "data": {
      "text/html": [
       "<table class=\"dataframe\">\n",
       "<caption>A data.frame: 5 × 12</caption>\n",
       "<thead>\n",
       "\t<tr><th scope=col>k</th><th scope=col>ALL</th><th scope=col>NCF</th><th scope=col>Chain</th><th scope=col>Chain_1</th><th scope=col>Chain_U</th><th scope=col>Non.Chain_U_NCF</th><th scope=col>NCF_in_all</th><th scope=col>Chain_in_NCF</th><th scope=col>Chain_1_in_NCF</th><th scope=col>Chain_U_in_NCF</th><th scope=col>Non.Chain_U_NCF_in_NCF</th></tr>\n",
       "\t<tr><th scope=col>&lt;int&gt;</th><th scope=col>&lt;int&gt;</th><th scope=col>&lt;int&gt;</th><th scope=col>&lt;int&gt;</th><th scope=col>&lt;int&gt;</th><th scope=col>&lt;int&gt;</th><th scope=col>&lt;int&gt;</th><th scope=col>&lt;dbl&gt;</th><th scope=col>&lt;dbl&gt;</th><th scope=col>&lt;dbl&gt;</th><th scope=col>&lt;dbl&gt;</th><th scope=col>&lt;dbl&gt;</th></tr>\n",
       "</thead>\n",
       "<tbody>\n",
       "\t<tr><td>1</td><td> 2</td><td> 2</td><td> 2</td><td>2</td><td> 2</td><td>0</td><td>1.0000000</td><td>1.0000000</td><td>1.00000000</td><td>1.0000000</td><td>0.0000000</td></tr>\n",
       "\t<tr><td>2</td><td> 9</td><td> 9</td><td> 9</td><td>3</td><td> 9</td><td>0</td><td>1.0000000</td><td>1.0000000</td><td>0.33333333</td><td>1.0000000</td><td>0.0000000</td></tr>\n",
       "\t<tr><td>3</td><td>71</td><td>71</td><td>59</td><td>3</td><td>62</td><td>9</td><td>1.0000000</td><td>0.8309859</td><td>0.04225352</td><td>0.8732394</td><td>0.1267606</td></tr>\n",
       "\t<tr><td>4</td><td>38</td><td>35</td><td>26</td><td>0</td><td>26</td><td>9</td><td>0.9210526</td><td>0.7428571</td><td>0.00000000</td><td>0.7428571</td><td>0.2571429</td></tr>\n",
       "\t<tr><td>5</td><td>19</td><td>16</td><td>11</td><td>0</td><td>11</td><td>5</td><td>0.8421053</td><td>0.6875000</td><td>0.00000000</td><td>0.6875000</td><td>0.3125000</td></tr>\n",
       "</tbody>\n",
       "</table>\n"
      ],
      "text/latex": [
       "A data.frame: 5 × 12\n",
       "\\begin{tabular}{llllllllllll}\n",
       " k & ALL & NCF & Chain & Chain\\_1 & Chain\\_U & Non.Chain\\_U\\_NCF & NCF\\_in\\_all & Chain\\_in\\_NCF & Chain\\_1\\_in\\_NCF & Chain\\_U\\_in\\_NCF & Non.Chain\\_U\\_NCF\\_in\\_NCF\\\\\n",
       " <int> & <int> & <int> & <int> & <int> & <int> & <int> & <dbl> & <dbl> & <dbl> & <dbl> & <dbl>\\\\\n",
       "\\hline\n",
       "\t 1 &  2 &  2 &  2 & 2 &  2 & 0 & 1.0000000 & 1.0000000 & 1.00000000 & 1.0000000 & 0.0000000\\\\\n",
       "\t 2 &  9 &  9 &  9 & 3 &  9 & 0 & 1.0000000 & 1.0000000 & 0.33333333 & 1.0000000 & 0.0000000\\\\\n",
       "\t 3 & 71 & 71 & 59 & 3 & 62 & 9 & 1.0000000 & 0.8309859 & 0.04225352 & 0.8732394 & 0.1267606\\\\\n",
       "\t 4 & 38 & 35 & 26 & 0 & 26 & 9 & 0.9210526 & 0.7428571 & 0.00000000 & 0.7428571 & 0.2571429\\\\\n",
       "\t 5 & 19 & 16 & 11 & 0 & 11 & 5 & 0.8421053 & 0.6875000 & 0.00000000 & 0.6875000 & 0.3125000\\\\\n",
       "\\end{tabular}\n"
      ],
      "text/markdown": [
       "\n",
       "A data.frame: 5 × 12\n",
       "\n",
       "| k &lt;int&gt; | ALL &lt;int&gt; | NCF &lt;int&gt; | Chain &lt;int&gt; | Chain_1 &lt;int&gt; | Chain_U &lt;int&gt; | Non.Chain_U_NCF &lt;int&gt; | NCF_in_all &lt;dbl&gt; | Chain_in_NCF &lt;dbl&gt; | Chain_1_in_NCF &lt;dbl&gt; | Chain_U_in_NCF &lt;dbl&gt; | Non.Chain_U_NCF_in_NCF &lt;dbl&gt; |\n",
       "|---|---|---|---|---|---|---|---|---|---|---|---|\n",
       "| 1 |  2 |  2 |  2 | 2 |  2 | 0 | 1.0000000 | 1.0000000 | 1.00000000 | 1.0000000 | 0.0000000 |\n",
       "| 2 |  9 |  9 |  9 | 3 |  9 | 0 | 1.0000000 | 1.0000000 | 0.33333333 | 1.0000000 | 0.0000000 |\n",
       "| 3 | 71 | 71 | 59 | 3 | 62 | 9 | 1.0000000 | 0.8309859 | 0.04225352 | 0.8732394 | 0.1267606 |\n",
       "| 4 | 38 | 35 | 26 | 0 | 26 | 9 | 0.9210526 | 0.7428571 | 0.00000000 | 0.7428571 | 0.2571429 |\n",
       "| 5 | 19 | 16 | 11 | 0 | 11 | 5 | 0.8421053 | 0.6875000 | 0.00000000 | 0.6875000 | 0.3125000 |\n",
       "\n"
      ],
      "text/plain": [
       "  k ALL NCF Chain Chain_1 Chain_U Non.Chain_U_NCF NCF_in_all Chain_in_NCF\n",
       "1 1  2   2   2    2        2      0               1.0000000  1.0000000   \n",
       "2 2  9   9   9    3        9      0               1.0000000  1.0000000   \n",
       "3 3 71  71  59    3       62      9               1.0000000  0.8309859   \n",
       "4 4 38  35  26    0       26      9               0.9210526  0.7428571   \n",
       "5 5 19  16  11    0       11      5               0.8421053  0.6875000   \n",
       "  Chain_1_in_NCF Chain_U_in_NCF Non.Chain_U_NCF_in_NCF\n",
       "1 1.00000000     1.0000000      0.0000000             \n",
       "2 0.33333333     1.0000000      0.0000000             \n",
       "3 0.04225352     0.8732394      0.1267606             \n",
       "4 0.00000000     0.7428571      0.2571429             \n",
       "5 0.00000000     0.6875000      0.3125000             "
      ]
     },
     "metadata": {},
     "output_type": "display_data"
    }
   ],
   "source": [
    "emp_num_frac"
   ]
  },
  {
   "cell_type": "code",
   "execution_count": 4,
   "id": "7cbe24d6",
   "metadata": {},
   "outputs": [
    {
     "name": "stdout",
     "output_type": "stream",
     "text": [
      "[1] \"Enrichment of the NCFs functions within ALL BFs\"\n",
      "[1] \"--------------------------------------------------\"\n",
      "[1] 0.000000e+00 0.000000e+00 0.000000e+00 4.484726e-68 8.309473e-94\n"
     ]
    }
   ],
   "source": [
    "# Test 1: Enrichment of NCFs within ALL BFs:\n",
    "enrich_NCF_in_ALL <- c()\n",
    "for (k in emp_num_frac$k){\n",
    "    th_NCF_k <- th_num_frac$NCF[k]\n",
    "    th_ALL_k <- th_num_frac$ALL[k]\n",
    "    emp_NCF_k <- emp_num_frac$NCF[k]\n",
    "    emp_ALL_k <- emp_num_frac$ALL[k]\n",
    "    pval_NCF_ALL_k <- pbinom(emp_NCF_k, emp_ALL_k, prob=th_NCF_k/th_ALL_k, lower.tail=FALSE)\n",
    "    enrich_NCF_in_ALL <- c(enrich_NCF_in_ALL, pval_NCF_ALL_k)\n",
    "}\n",
    "print ('Enrichment of the NCFs functions within ALL BFs')\n",
    "print ('--------------------------------------------------')\n",
    "print (enrich_NCF_in_ALL)"
   ]
  },
  {
   "cell_type": "code",
   "execution_count": 4,
   "id": "54c073cd",
   "metadata": {},
   "outputs": [
    {
     "name": "stdout",
     "output_type": "stream",
     "text": [
      "[1] \"Enrichment of the Chain-0 functions within the NCFs\"\n",
      "[1] \"---------------------------------------------------\"\n",
      "[1] 0.000000e+00 0.000000e+00 3.176068e-14 9.145916e-13 1.527575e-09\n",
      "[1] \"\"\n",
      "[1] \"Enrichment of the Chain-1 functions within the NCFs\"\n",
      "[1] \"---------------------------------------------------\"\n",
      "[1] 0.0000000 0.9900055 1.0000000 0.9996567 0.8206829\n",
      "[1] \"\"\n",
      "[1] \"Enrichment of the Chain-U functions within the NCFs\"\n",
      "[1] \"---------------------------------------------------\"\n",
      "[1] 0.000000e+00 0.000000e+00 6.557450e-02 1.320036e-05 4.043217e-06\n",
      "[1] \"Enrichment of the Non-Chain-U functions within the NCFs\"\n",
      "[1] \"---------------------------------------------------\"\n",
      "[1] 0.0000000 0.0000000 0.8797158 0.9999402 0.9999609\n"
     ]
    }
   ],
   "source": [
    "# Test 2: relative enrichment of Chain functions within NCFs:\n",
    "enrich_ChF_0_in_NCF <- c()\n",
    "enrich_ChF_1_in_NCF <- c()\n",
    "enrich_ChF_U_in_NCF <- c()\n",
    "enrich_non_ChF_U_in_NCF <- c()\n",
    "\n",
    "# Compute enrichments for Chain 0 functions:\n",
    "for (k in emp_num_frac$k){\n",
    "    th_ChF_0_k <- th_num_frac$Chain[k]\n",
    "    th_NCF_k <- th_num_frac$NCF[k]\n",
    "    emp_ChF_0_k <- emp_num_frac$Chain[k]\n",
    "    emp_NCF_k <- emp_num_frac$NCF[k]\n",
    "    pval_ChF_0_NCF_k <- pbinom(emp_ChF_0_k, emp_NCF_k, prob=th_ChF_0_k/th_NCF_k, lower.tail=FALSE)\n",
    "    enrich_ChF_0_in_NCF <- c(enrich_ChF_0_in_NCF, pval_ChF_0_NCF_k)\n",
    "}\n",
    "print ('Enrichment of the Chain-0 functions within the NCFs')\n",
    "print ('---------------------------------------------------')\n",
    "print (enrich_ChF_0_in_NCF)\n",
    "print ('')\n",
    "\n",
    "# Compute enrichments for Chain 1 functions:\n",
    "for (k in emp_num_frac$k){\n",
    "    th_ChF_1_k <- th_num_frac$Chain_1[k]\n",
    "    th_NCF_k <- th_num_frac$NCF[k]\n",
    "    emp_ChF_1_k <- emp_num_frac$Chain_1[k]\n",
    "    emp_NCF_k <- emp_num_frac$NCF[k]\n",
    "    pval_ChF_1_NCF_k <- pbinom(emp_ChF_1_k, emp_NCF_k, prob=th_ChF_1_k/th_NCF_k, lower.tail=FALSE)\n",
    "    enrich_ChF_1_in_NCF <- c(enrich_ChF_1_in_NCF, pval_ChF_1_NCF_k)\n",
    "}\n",
    "\n",
    "print ('Enrichment of the Chain-1 functions within the NCFs')\n",
    "print ('---------------------------------------------------')\n",
    "print (enrich_ChF_1_in_NCF)\n",
    "print ('')\n",
    "\n",
    "# Compute enrichments for Chain U functions:\n",
    "for (k in emp_num_frac$k){\n",
    "    th_ChF_U_k <- th_num_frac$Chain_U[k]\n",
    "    th_NCF_k <- th_num_frac$NCF[k]\n",
    "    emp_ChF_U_k <- emp_num_frac$Chain_U[k]\n",
    "    emp_NCF_k <- emp_num_frac$NCF[k]\n",
    "    pval_ChF_U_NCF_k <- pbinom(emp_ChF_U_k, emp_NCF_k, prob=th_ChF_U_k/th_NCF_k, lower.tail=FALSE)\n",
    "    enrich_ChF_U_in_NCF <- c(enrich_ChF_U_in_NCF, pval_ChF_U_NCF_k)\n",
    "}\n",
    "\n",
    "print ('Enrichment of the Chain-U functions within the NCFs')\n",
    "print ('---------------------------------------------------')\n",
    "print (enrich_ChF_U_in_NCF)\n",
    "\n",
    "#-------------------------------------------------------------------------------------------------------------------------------\n",
    "# Compute enrichments for Non-Chain-U functions:\n",
    "for (k in emp_num_frac$k){\n",
    "    th_non_ChF_U_k <- th_num_frac$Non.Chain_U_NCF[k]\n",
    "    th_NCF_k <- th_num_frac$NCF[k]\n",
    "    emp_non_ChF_U_k <- emp_num_frac$Non.Chain_U_NCF[k]\n",
    "    emp_NCF_k <- emp_num_frac$NCF[k]\n",
    "    pval_non_ChF_U_NCF_k <- pbinom(emp_non_ChF_U_k, emp_NCF_k, prob=th_non_ChF_U_k/th_NCF_k, lower.tail=FALSE)\n",
    "    enrich_non_ChF_U_in_NCF <- c(enrich_non_ChF_U_in_NCF, pval_non_ChF_U_NCF_k)\n",
    "}\n",
    "\n",
    "print ('Enrichment of the Non-Chain-U functions within the NCFs')\n",
    "print ('---------------------------------------------------')\n",
    "print (enrich_non_ChF_U_in_NCF)"
   ]
  },
  {
   "cell_type": "code",
   "execution_count": 6,
   "id": "274331b3",
   "metadata": {},
   "outputs": [
    {
     "data": {
      "text/html": [
       "<table class=\"dataframe\">\n",
       "<caption>A data.frame: 5 × 6</caption>\n",
       "<thead>\n",
       "\t<tr><th scope=col>emp_num_frac.k</th><th scope=col>enrich_NCF_in_ALL</th><th scope=col>enrich_ChF_0_in_NCF</th><th scope=col>enrich_ChF_1_in_NCF</th><th scope=col>enrich_ChF_U_in_NCF</th><th scope=col>enrich_non_ChF_U_in_NCF</th></tr>\n",
       "\t<tr><th scope=col>&lt;int&gt;</th><th scope=col>&lt;dbl&gt;</th><th scope=col>&lt;dbl&gt;</th><th scope=col>&lt;dbl&gt;</th><th scope=col>&lt;dbl&gt;</th><th scope=col>&lt;dbl&gt;</th></tr>\n",
       "</thead>\n",
       "<tbody>\n",
       "\t<tr><td>1</td><td>0.000000e+00</td><td>0.000000e+00</td><td>0.0000000</td><td>0.000000e+00</td><td>0.0000000</td></tr>\n",
       "\t<tr><td>2</td><td>0.000000e+00</td><td>0.000000e+00</td><td>0.9900055</td><td>0.000000e+00</td><td>0.0000000</td></tr>\n",
       "\t<tr><td>3</td><td>0.000000e+00</td><td>3.176068e-14</td><td>1.0000000</td><td>6.557450e-02</td><td>0.8797158</td></tr>\n",
       "\t<tr><td>4</td><td>4.484726e-68</td><td>9.145916e-13</td><td>0.9996567</td><td>1.320036e-05</td><td>0.9999402</td></tr>\n",
       "\t<tr><td>5</td><td>8.309473e-94</td><td>1.527575e-09</td><td>0.8206829</td><td>4.043217e-06</td><td>0.9999609</td></tr>\n",
       "</tbody>\n",
       "</table>\n"
      ],
      "text/latex": [
       "A data.frame: 5 × 6\n",
       "\\begin{tabular}{llllll}\n",
       " emp\\_num\\_frac.k & enrich\\_NCF\\_in\\_ALL & enrich\\_ChF\\_0\\_in\\_NCF & enrich\\_ChF\\_1\\_in\\_NCF & enrich\\_ChF\\_U\\_in\\_NCF & enrich\\_non\\_ChF\\_U\\_in\\_NCF\\\\\n",
       " <int> & <dbl> & <dbl> & <dbl> & <dbl> & <dbl>\\\\\n",
       "\\hline\n",
       "\t 1 & 0.000000e+00 & 0.000000e+00 & 0.0000000 & 0.000000e+00 & 0.0000000\\\\\n",
       "\t 2 & 0.000000e+00 & 0.000000e+00 & 0.9900055 & 0.000000e+00 & 0.0000000\\\\\n",
       "\t 3 & 0.000000e+00 & 3.176068e-14 & 1.0000000 & 6.557450e-02 & 0.8797158\\\\\n",
       "\t 4 & 4.484726e-68 & 9.145916e-13 & 0.9996567 & 1.320036e-05 & 0.9999402\\\\\n",
       "\t 5 & 8.309473e-94 & 1.527575e-09 & 0.8206829 & 4.043217e-06 & 0.9999609\\\\\n",
       "\\end{tabular}\n"
      ],
      "text/markdown": [
       "\n",
       "A data.frame: 5 × 6\n",
       "\n",
       "| emp_num_frac.k &lt;int&gt; | enrich_NCF_in_ALL &lt;dbl&gt; | enrich_ChF_0_in_NCF &lt;dbl&gt; | enrich_ChF_1_in_NCF &lt;dbl&gt; | enrich_ChF_U_in_NCF &lt;dbl&gt; | enrich_non_ChF_U_in_NCF &lt;dbl&gt; |\n",
       "|---|---|---|---|---|---|\n",
       "| 1 | 0.000000e+00 | 0.000000e+00 | 0.0000000 | 0.000000e+00 | 0.0000000 |\n",
       "| 2 | 0.000000e+00 | 0.000000e+00 | 0.9900055 | 0.000000e+00 | 0.0000000 |\n",
       "| 3 | 0.000000e+00 | 3.176068e-14 | 1.0000000 | 6.557450e-02 | 0.8797158 |\n",
       "| 4 | 4.484726e-68 | 9.145916e-13 | 0.9996567 | 1.320036e-05 | 0.9999402 |\n",
       "| 5 | 8.309473e-94 | 1.527575e-09 | 0.8206829 | 4.043217e-06 | 0.9999609 |\n",
       "\n"
      ],
      "text/plain": [
       "  emp_num_frac.k enrich_NCF_in_ALL enrich_ChF_0_in_NCF enrich_ChF_1_in_NCF\n",
       "1 1              0.000000e+00      0.000000e+00        0.0000000          \n",
       "2 2              0.000000e+00      0.000000e+00        0.9900055          \n",
       "3 3              0.000000e+00      3.176068e-14        1.0000000          \n",
       "4 4              4.484726e-68      9.145916e-13        0.9996567          \n",
       "5 5              8.309473e-94      1.527575e-09        0.8206829          \n",
       "  enrich_ChF_U_in_NCF enrich_non_ChF_U_in_NCF\n",
       "1 0.000000e+00        0.0000000              \n",
       "2 0.000000e+00        0.0000000              \n",
       "3 6.557450e-02        0.8797158              \n",
       "4 1.320036e-05        0.9999402              \n",
       "5 4.043217e-06        0.9999609              "
      ]
     },
     "metadata": {},
     "output_type": "display_data"
    }
   ],
   "source": [
    "# Make a dataframe of the results and save as a tsv file\n",
    "enrich_df <- data.frame (emp_num_frac$k, enrich_NCF_in_ALL, enrich_ChF_0_in_NCF, enrich_ChF_1_in_NCF, enrich_ChF_U_in_NCF, enrich_non_ChF_U_in_NCF)\n",
    "enrich_df"
   ]
  },
  {
   "cell_type": "code",
   "execution_count": 7,
   "id": "532f1a62",
   "metadata": {},
   "outputs": [],
   "source": [
    "write.table(enrich_df, \"../output/stat_test_Harris.txt\", row.names = FALSE, sep='\\t')"
   ]
  }
 ],
 "metadata": {
  "kernelspec": {
   "display_name": "R",
   "language": "R",
   "name": "ir"
  },
  "language_info": {
   "codemirror_mode": "r",
   "file_extension": ".r",
   "mimetype": "text/x-r-source",
   "name": "R",
   "pygments_lexer": "r",
   "version": "4.2.3"
  }
 },
 "nbformat": 4,
 "nbformat_minor": 5
}
